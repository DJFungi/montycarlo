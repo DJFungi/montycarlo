{
 "cells": [
  {
   "cell_type": "markdown",
   "metadata": {},
   "source": [
    "# Modeling Exotic Option Prices with Monte Carlo\n",
    "\n",
    "**Brendan Reid, Calvin Combs, Dalton Fowler, Xander Struntz**"
   ]
  },
  {
   "cell_type": "markdown",
   "metadata": {},
   "source": [
    "## Introduction"
   ]
  },
  {
   "cell_type": "code",
   "execution_count": 18,
   "metadata": {},
   "outputs": [],
   "source": [
    "import numpy as np"
   ]
  },
  {
   "cell_type": "code",
   "execution_count": 19,
   "metadata": {},
   "outputs": [],
   "source": [
    "# Author: Calvin Combs\n",
    "\n",
    "# generates matrix of stock paths.\n",
    "# columns represent path of a stock at each time step.\n",
    "# each stock starts from the same price.\n",
    "\n",
    "# parameters:\n",
    "# S0: initial stock price\n",
    "# mu: expected return of stock\n",
    "# sig: standard deviation of stock price\n",
    "# dt: size of time step\n",
    "# steps: number of time steps to generate\n",
    "# numPaths: number of stock paths to generate\n",
    "def assetPaths(S0,mu,sig,dt,steps,numPaths):\n",
    "    drift = mu - sig*sig/2\n",
    "    \n",
    "    cProd = np.cumprod(np.exp(drift*dt+sig*np.sqrt(dt)*np.random.normal(0, 1, (steps,numPaths))), axis=0)\n",
    "\n",
    "    # build array   \n",
    "    S = S0 * (np.append(np.ones((1,numPaths)), (cProd)))\n",
    "    \n",
    "    return S"
   ]
  },
  {
   "cell_type": "markdown",
   "metadata": {},
   "source": [
    "We give some examples of calling `assetPaths()`. (This is for personal reference, we might want to delete these when we submit this project)."
   ]
  },
  {
   "cell_type": "code",
   "execution_count": 20,
   "metadata": {},
   "outputs": [
    {
     "name": "stdout",
     "output_type": "stream",
     "text": [
      "[100.         100.         100.          87.15704788  99.1857921\n",
      " 111.67188982  72.03202918 112.72524506 113.46336599  68.86321159\n",
      " 143.20693443 117.46650865  64.41456611 137.199424    95.26365395\n",
      "  70.41190788 168.11617143 107.52052022]\n"
     ]
    }
   ],
   "source": [
    "# Note the strange formatting. This is because of python's print() function.\n",
    "# If we want an option to pretty print these for any number of paths,\n",
    "# we can build our own pretty print function.\n",
    "\n",
    "print(assetPaths(100, .15, .3, 1/4, 5, 3))"
   ]
  },
  {
   "cell_type": "code",
   "execution_count": 21,
   "metadata": {},
   "outputs": [
    {
     "name": "stdout",
     "output_type": "stream",
     "text": [
      "[100.         100.         100.         100.         100.\n",
      " 100.26724602  93.20061675  81.48179223  89.83107391  91.76464177\n",
      "  83.62947978 105.90359396  94.96732245 160.75269432  92.25900382\n",
      "  89.82704992  90.10583313  99.08454604 126.08174387  94.05394774\n",
      " 111.12177443  90.836096   101.70980297 181.90500402 153.89851379\n",
      " 115.58293     96.34818397 136.648314   212.54494962  95.38308829\n",
      " 109.4716485  144.92744687 126.39773721 185.80635955  65.10436531\n",
      " 113.29033237 170.32999012 123.93968694 200.13635497  71.93775157\n",
      " 133.0491319  148.14977366 124.90196741 289.62429592  82.3567535\n",
      "  77.2869534  112.11910667 100.67528923 276.20520702  65.73925091\n",
      "  56.90784579  83.30277101 109.76490458 271.18532015  70.51449379]\n"
     ]
    }
   ],
   "source": [
    "print(assetPaths(100, .8, .9, 1/12, 10, 5))"
   ]
  },
  {
   "cell_type": "code",
   "execution_count": null,
   "metadata": {},
   "outputs": [],
   "source": []
  }
 ],
 "metadata": {
  "kernelspec": {
   "display_name": "Python 3",
   "language": "python",
   "name": "python3"
  },
  "language_info": {
   "codemirror_mode": {
    "name": "ipython",
    "version": 3
   },
   "file_extension": ".py",
   "mimetype": "text/x-python",
   "name": "python",
   "nbconvert_exporter": "python",
   "pygments_lexer": "ipython3",
   "version": "3.7.1"
  }
 },
 "nbformat": 4,
 "nbformat_minor": 2
}

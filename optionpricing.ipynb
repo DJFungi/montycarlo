{
 "cells": [
  {
   "cell_type": "markdown",
   "metadata": {},
   "source": [
    "# Modeling Exotic Option Prices with Monte Carlo\n",
    "\n",
    "**Brendan Reid, Calvin Combs, Dalton Fowler, Xander Struntz**"
   ]
  },
  {
   "cell_type": "markdown",
   "metadata": {},
   "source": [
    "## Introduction"
   ]
  },
  {
   "cell_type": "code",
   "execution_count": 1,
   "metadata": {
    "scrolled": true
   },
   "outputs": [
    {
     "name": "stdout",
     "output_type": "stream",
     "text": [
      "\u001b[33mWARNING: Value for scheme.platlib does not match. Please report this to <https://github.com/pypa/pip/issues/9617>\n",
      "distutils: /usr/local/lib/python3.8/dist-packages\n",
      "sysconfig: /usr/lib/python3.8/site-packages\u001b[0m\n",
      "\u001b[33mWARNING: Value for scheme.purelib does not match. Please report this to <https://github.com/pypa/pip/issues/9617>\n",
      "distutils: /usr/local/lib/python3.8/dist-packages\n",
      "sysconfig: /usr/lib/python3.8/site-packages\u001b[0m\n",
      "\u001b[33mWARNING: Value for scheme.headers does not match. Please report this to <https://github.com/pypa/pip/issues/9617>\n",
      "distutils: /usr/local/include/python3.8/UNKNOWN\n",
      "sysconfig: /usr/include/python3.8\u001b[0m\n",
      "\u001b[33mWARNING: Value for scheme.scripts does not match. Please report this to <https://github.com/pypa/pip/issues/9617>\n",
      "distutils: /usr/local/bin\n",
      "sysconfig: /usr/bin\u001b[0m\n",
      "\u001b[33mWARNING: Value for scheme.data does not match. Please report this to <https://github.com/pypa/pip/issues/9617>\n",
      "distutils: /usr/local\n",
      "sysconfig: /usr\u001b[0m\n",
      "\u001b[33mWARNING: Additional context:\n",
      "user = False\n",
      "home = None\n",
      "root = None\n",
      "prefix = None\u001b[0m\n",
      "Defaulting to user installation because normal site-packages is not writeable\n",
      "Requirement already satisfied: numpy in /home/bonk/.local/lib/python3.8/site-packages (1.20.2)\n",
      "\u001b[33mWARNING: Value for scheme.headers does not match. Please report this to <https://github.com/pypa/pip/issues/9617>\n",
      "distutils: /home/bonk/.local/include/python3.8/UNKNOWN\n",
      "sysconfig: /home/bonk/.local/include/python3.8\u001b[0m\n",
      "\u001b[33mWARNING: Additional context:\n",
      "user = True\n",
      "home = None\n",
      "root = None\n",
      "prefix = None\u001b[0m\n",
      "\u001b[33mWARNING: Value for scheme.platlib does not match. Please report this to <https://github.com/pypa/pip/issues/9617>\n",
      "distutils: /usr/local/lib/python3.8/dist-packages\n",
      "sysconfig: /usr/lib/python3.8/site-packages\u001b[0m\n",
      "\u001b[33mWARNING: Value for scheme.purelib does not match. Please report this to <https://github.com/pypa/pip/issues/9617>\n",
      "distutils: /usr/local/lib/python3.8/dist-packages\n",
      "sysconfig: /usr/lib/python3.8/site-packages\u001b[0m\n",
      "\u001b[33mWARNING: Value for scheme.headers does not match. Please report this to <https://github.com/pypa/pip/issues/9617>\n",
      "distutils: /usr/local/include/python3.8/UNKNOWN\n",
      "sysconfig: /usr/include/python3.8\u001b[0m\n",
      "\u001b[33mWARNING: Value for scheme.scripts does not match. Please report this to <https://github.com/pypa/pip/issues/9617>\n",
      "distutils: /usr/local/bin\n",
      "sysconfig: /usr/bin\u001b[0m\n",
      "\u001b[33mWARNING: Value for scheme.data does not match. Please report this to <https://github.com/pypa/pip/issues/9617>\n",
      "distutils: /usr/local\n",
      "sysconfig: /usr\u001b[0m\n",
      "\u001b[33mWARNING: Additional context:\n",
      "user = False\n",
      "home = None\n",
      "root = None\n",
      "prefix = None\u001b[0m\n",
      "Defaulting to user installation because normal site-packages is not writeable\n",
      "Requirement already satisfied: matplotlib in /home/bonk/.local/lib/python3.8/site-packages (3.4.1)\n",
      "Requirement already satisfied: pyparsing>=2.2.1 in /home/bonk/.local/lib/python3.8/site-packages (from matplotlib) (2.4.7)\n",
      "Requirement already satisfied: python-dateutil>=2.7 in /home/bonk/.local/lib/python3.8/site-packages (from matplotlib) (2.8.1)\n",
      "Requirement already satisfied: kiwisolver>=1.0.1 in /home/bonk/.local/lib/python3.8/site-packages (from matplotlib) (1.3.1)\n",
      "Requirement already satisfied: pillow>=6.2.0 in /home/bonk/.local/lib/python3.8/site-packages (from matplotlib) (8.2.0)\n",
      "Requirement already satisfied: numpy>=1.16 in /home/bonk/.local/lib/python3.8/site-packages (from matplotlib) (1.20.2)\n",
      "Requirement already satisfied: cycler>=0.10 in /home/bonk/.local/lib/python3.8/site-packages (from matplotlib) (0.10.0)\n",
      "Requirement already satisfied: six in /usr/lib/python3/dist-packages (from cycler>=0.10->matplotlib) (1.14.0)\n",
      "\u001b[33mWARNING: Value for scheme.headers does not match. Please report this to <https://github.com/pypa/pip/issues/9617>\n",
      "distutils: /home/bonk/.local/include/python3.8/UNKNOWN\n",
      "sysconfig: /home/bonk/.local/include/python3.8\u001b[0m\n",
      "\u001b[33mWARNING: Additional context:\n",
      "user = True\n",
      "home = None\n",
      "root = None\n",
      "prefix = None\u001b[0m\n"
     ]
    }
   ],
   "source": [
    "!pip install numpy\n",
    "!pip install matplotlib"
   ]
  },
  {
   "cell_type": "code",
   "execution_count": 2,
   "metadata": {},
   "outputs": [],
   "source": [
    "import numpy as np\n",
    "import matplotlib.pyplot as plt"
   ]
  },
  {
   "cell_type": "code",
   "execution_count": 3,
   "metadata": {},
   "outputs": [],
   "source": [
    "# generates matrix of stock paths.\n",
    "# rows represent path of a stock at each time step.\n",
    "# each stock starts from the same price.\n",
    "\n",
    "# parameters:\n",
    "# S0: initial stock price\n",
    "# mu: expected return of stock\n",
    "# sig: standard deviation of stock price\n",
    "# dt: size of time step (annual; give 1/365 for daily)\n",
    "# steps: number of time steps to generate\n",
    "# numPaths: number of stock paths to generate\n",
    "def assetPaths(S0,mu,sig,dt,steps,numPaths):\n",
    "    drift = mu - sig*sig/2\n",
    "    \n",
    "    cProd = np.cumprod(np.exp(drift*dt+sig*np.sqrt(dt)*np.random.normal(0, 1, (steps,numPaths))), axis=0)\n",
    "\n",
    "    # build array\n",
    "    S = S0 * (np.vstack((np.ones((1,numPaths)), (cProd))))\n",
    "    \n",
    "    return S.T"
   ]
  },
  {
   "cell_type": "markdown",
   "metadata": {},
   "source": [
    "We give some examples of calling `assetPaths()`. (This is for personal reference, we might want to delete these when we submit this project)."
   ]
  },
  {
   "cell_type": "code",
   "execution_count": 4,
   "metadata": {},
   "outputs": [
    {
     "name": "stdout",
     "output_type": "stream",
     "text": [
      "[100.          90.81680327  93.41134925 140.92399095 158.91802379\n",
      " 146.38852418]\n"
     ]
    }
   ],
   "source": [
    "# Each row is a path\n",
    "paths = assetPaths(100, .15, .3, 1/4, 5, 3)\n",
    "pathOne = paths[0]\n",
    "print(pathOne)"
   ]
  },
  {
   "cell_type": "code",
   "execution_count": 5,
   "metadata": {},
   "outputs": [
    {
     "name": "stdout",
     "output_type": "stream",
     "text": [
      "[100. 100. 100.]\n"
     ]
    }
   ],
   "source": [
    "# Note: the asset paths are stored in rows, not the columns, of the matrix.\n",
    "# Thus the first column is the initial price of each asset\n",
    "print(paths.T[0])"
   ]
  },
  {
   "cell_type": "code",
   "execution_count": 6,
   "metadata": {},
   "outputs": [
    {
     "name": "stdout",
     "output_type": "stream",
     "text": [
      "[100.         118.36950672  99.61464288  73.94309214  65.36085421\n",
      "  65.71462903]\n"
     ]
    }
   ],
   "source": [
    "# A different path:\n",
    "pathTwo = paths[1]\n",
    "print(pathTwo)"
   ]
  },
  {
   "cell_type": "code",
   "execution_count": 7,
   "metadata": {},
   "outputs": [],
   "source": [
    "# compute a discrete integral\n",
    "\n",
    "# parameters:\n",
    "# arr: an array. Must only contain numeric types.\n",
    "def discreteIntegral(arr):\n",
    "    result = 0\n",
    "        \n",
    "    for i in range(0, len(arr)):\n",
    "        result += arr[i] * (1 / len(arr))\n",
    "        \n",
    "    return result"
   ]
  },
  {
   "cell_type": "code",
   "execution_count": 8,
   "metadata": {},
   "outputs": [
    {
     "name": "stdout",
     "output_type": "stream",
     "text": [
      "2.0\n",
      "94.85640959736281\n"
     ]
    }
   ],
   "source": [
    "# We give some examples of calling discreteIntegral\n",
    "\n",
    "# we expect 1/3 (1 + 2 + 3) = 2\n",
    "print(discreteIntegral([1, 2, 3]))\n",
    "\n",
    "paths = assetPaths(100, .8, .9, 1/12, 10, 5)[0]\n",
    "print(discreteIntegral(paths))"
   ]
  },
  {
   "cell_type": "markdown",
   "metadata": {},
   "source": [
    "## Parisian Indicator Functions"
   ]
  },
  {
   "cell_type": "code",
   "execution_count": 9,
   "metadata": {},
   "outputs": [],
   "source": [
    "# Parisian Knock In/Out Down indicator\n",
    "# Returns true if the down Parisian continuity requirement is satisfied\n",
    "\n",
    "def downParisCont(path, barrier):\n",
    "    result = True\n",
    "    \n",
    "    for i in range(len(path) + 1):\n",
    "        for j in range(i + 1, len(path)):\n",
    "            for k in range(i, j + 1):\n",
    "                if path[k] > barrier:\n",
    "                    result = False\n",
    "                    break\n",
    "                    \n",
    "            if result == True:\n",
    "                return True\n",
    "                \n",
    "            result = True # otherwise once set to false, it will always be false; bad\n",
    "            \n",
    "    return False\n",
    "                \n",
    "def upParisCont(path, barrier):\n",
    "    result = True\n",
    "    \n",
    "    for i in range(len(path) + 1):\n",
    "        for j in range(i + 1, len(path)):\n",
    "            for k in range(i, j + 1):\n",
    "                if path[k] < barrier:\n",
    "                    result = False\n",
    "                    break\n",
    "                    \n",
    "            if result == True:\n",
    "                return True\n",
    "                \n",
    "            result = True # otherwise once set to false, it will always be false; bad\n",
    "            \n",
    "    return False"
   ]
  },
  {
   "cell_type": "code",
   "execution_count": 10,
   "metadata": {},
   "outputs": [],
   "source": [
    "# Simple functions to find the max and min of a array.\n",
    "# We will be using these to help plot our outputs.\n",
    "\n",
    "# NOTE: I thought I needed this for plotting but it appears not\n",
    "# leaving incase we need at another time.\n",
    "def getMax(arr):\n",
    "    max = arr[0]\n",
    "    for x in arr[1:]:\n",
    "        if x > max:\n",
    "            max = x\n",
    "    return max\n",
    "\n",
    "def getMin(arr):\n",
    "    min = arr[0]\n",
    "    for x in arr[1:]:\n",
    "        if x < min:\n",
    "            min = x\n",
    "    return min"
   ]
  },
  {
   "cell_type": "code",
   "execution_count": 11,
   "metadata": {},
   "outputs": [
    {
     "name": "stdout",
     "output_type": "stream",
     "text": [
      "158.918023786086|90.81680326901187\n",
      "118.36950672369144|65.3608542094414\n"
     ]
    }
   ],
   "source": [
    "# Here we test the functions by a very straightforward test\n",
    "print(getMax(pathOne), getMin(pathOne), sep=\"|\")\n",
    "print(getMax(pathTwo), getMin(pathTwo), sep=\"|\")"
   ]
  },
  {
   "cell_type": "code",
   "execution_count": 12,
   "metadata": {},
   "outputs": [
    {
     "data": {
      "image/png": "[encoded data removed]",
      "text/plain": [
       "<Figure size 432x288 with 1 Axes>"
      ]
     },
     "metadata": {
      "needs_background": "light"
     },
     "output_type": "display_data"
    }
   ],
   "source": [
    "# Plot the first asset path\n",
    "plt.title(\"Option Payoffs\")\n",
    "plt.xlabel(\"X Axis\")\n",
    "plt.ylabel(\"Y Axis\")\n",
    "x = np.arange(0, len(pathOne))\n",
    "y = np.array(pathOne)\n",
    "plt.plot(x, y, color = \"green\")\n",
    "plt.show()"
   ]
  },
  {
   "cell_type": "code",
   "execution_count": 13,
   "metadata": {},
   "outputs": [
    {
     "data": {
      "image/png": "[encoded data removed]",
      "text/plain": [
       "<Figure size 432x288 with 1 Axes>"
      ]
     },
     "metadata": {
      "needs_background": "light"
     },
     "output_type": "display_data"
    }
   ],
   "source": [
    "# Plot the second asset path\n",
    "plt.title(\"Option Payoffs\")\n",
    "plt.xlabel(\"X Axis\")\n",
    "plt.ylabel(\"Y Axis\")\n",
    "x = np.arange(0, len(pathTwo))\n",
    "y = np.array(pathTwo)\n",
    "plt.plot(x, y, color = \"green\")\n",
    "plt.show()"
   ]
  },
  {
   "cell_type": "markdown",
   "metadata": {},
   "source": [
    "# Option Payoff Functions"
   ]
  },
  {
   "cell_type": "code",
   "execution_count": 14,
   "metadata": {},
   "outputs": [],
   "source": [
    "# All functions have one or more of these parameters\n",
    "\n",
    "# path: path taken by the asset\n",
    "# K: strike price"
   ]
  },
  {
   "cell_type": "markdown",
   "metadata": {},
   "source": [
    "## Asian:"
   ]
  },
  {
   "cell_type": "code",
   "execution_count": 15,
   "metadata": {},
   "outputs": [],
   "source": [
    "# Compute the payoff of an asian average price call option\n",
    "\n",
    "# parameters:\n",
    "# path: path taken by the asset\n",
    "# K: strike price\n",
    "def asianAvgPriceCall(path, K):\n",
    "    avgPrice = discreteIntegral(path)\n",
    "    intrinsic = avgPrice - K\n",
    "    \n",
    "    return intrinsic if intrinsic > 0 else 0"
   ]
  },
  {
   "cell_type": "code",
   "execution_count": 16,
   "metadata": {},
   "outputs": [],
   "source": [
    "def asianAvgPricePut(path, K):\n",
    "    avgPrice = discreteIntegral(path)\n",
    "    intrinsic = K - avgPrice\n",
    "    \n",
    "    return intrinsic if intrinsic > 0 else 0"
   ]
  },
  {
   "cell_type": "code",
   "execution_count": 17,
   "metadata": {},
   "outputs": [],
   "source": [
    "def asianAvgStrikeCall(path):\n",
    "    avgPrice = discreteIntegral(path)\n",
    "    S_T = path[len(path) - 1]\n",
    "    intrinsic = S_T - avgPrice\n",
    "    \n",
    "    return intrinsic if intrinsic > 0 else 0"
   ]
  },
  {
   "cell_type": "code",
   "execution_count": 18,
   "metadata": {},
   "outputs": [],
   "source": [
    "def asianAvgStrikePut(path):\n",
    "    avgPrice = discreteIntegral(path)\n",
    "    S_T = path[len(path) - 1]\n",
    "    intrinsic = avgPrice - S_T\n",
    "    \n",
    "    return intrinsic if intrinsic > 0 else 0"
   ]
  },
  {
   "cell_type": "markdown",
   "metadata": {},
   "source": [
    "## Lookback:"
   ]
  },
  {
   "cell_type": "code",
   "execution_count": 19,
   "metadata": {},
   "outputs": [],
   "source": [
    "def lookbackFixedCall(path, K):\n",
    "    Smax = getMax(path)\n",
    "    intrinsic = Smax - K\n",
    "    \n",
    "    return intrinsic if intrinsic > 0 else 0"
   ]
  },
  {
   "cell_type": "code",
   "execution_count": 20,
   "metadata": {},
   "outputs": [],
   "source": [
    "def lookbackFixedPut(path, K):\n",
    "    Smin = getMin(path)\n",
    "    intrinsic = K - Smin\n",
    "    \n",
    "    return intrinsic if intrinsic > 0 else 0"
   ]
  },
  {
   "cell_type": "code",
   "execution_count": 21,
   "metadata": {},
   "outputs": [],
   "source": [
    "def lookbackFloatingCall(path):\n",
    "    S_T = path[len(path) - 1]\n",
    "    Smin = getMin(path)\n",
    "    \n",
    "    intrinsic = S_T - Smin\n",
    "        \n",
    "    return intrinsic if intrinsic > 0 else 0"
   ]
  },
  {
   "cell_type": "code",
   "execution_count": 22,
   "metadata": {},
   "outputs": [],
   "source": [
    "def lookbackFloatingPut(path):\n",
    "    S_T = path[len(path) - 1]\n",
    "    Smax = getMax(path)\n",
    "    \n",
    "    intrinsic = Smax - S_T\n",
    "        \n",
    "    return intrinsic if intrinsic > 0 else 0"
   ]
  },
  {
   "cell_type": "code",
   "execution_count": 23,
   "metadata": {},
   "outputs": [],
   "source": [
    "# Chooser\n",
    "\n",
    "def chooser(path, K, choiceTime):\n",
    "    S_T = path[choiceTime]\n",
    "    \n",
    "    return S_T - K if S_T - K > 0 else K - S_T"
   ]
  },
  {
   "cell_type": "markdown",
   "metadata": {},
   "source": [
    "## Knock In"
   ]
  },
  {
   "cell_type": "code",
   "execution_count": 24,
   "metadata": {},
   "outputs": [],
   "source": [
    "# Note barrier options can use the following parameters.\n",
    "\n",
    "# parameters:\n",
    "# rebate: payoff given when the threshold is passed\n",
    "# B: threshold at which the rebate is returned"
   ]
  },
  {
   "cell_type": "code",
   "execution_count": 25,
   "metadata": {},
   "outputs": [],
   "source": [
    "def downInCall(path, B, K, rebate):\n",
    "    if getMin(path) <= B:\n",
    "        S_T = path[len(path) - 1]\n",
    "        intrinsic = S_T - K\n",
    "                \n",
    "        return intrinsic if intrinsic > 0 else 0\n",
    "    \n",
    "    # TODO: what does rebate take?\n",
    "    return rebate()\n",
    "\n",
    "def downInPut(path, B, K, rebate):\n",
    "    if getMin(path) <= B:\n",
    "        S_T = path[len(path) - 1]\n",
    "        intrinsic = K - S_T\n",
    "                \n",
    "        return intrinsic if intrinsic > 0 else 0\n",
    "    \n",
    "    # TODO: what does rebate take?\n",
    "    return rebate()"
   ]
  },
  {
   "cell_type": "code",
   "execution_count": 26,
   "metadata": {},
   "outputs": [],
   "source": [
    "def upInCall(path, B, K, rebate):\n",
    "    if getMax(path) >= B:\n",
    "        S_T = path[len(path) - 1]\n",
    "        intrinsic = S_T - K\n",
    "                \n",
    "        return intrinsic if intrinsic > 0 else 0\n",
    "    \n",
    "    # TODO: what does rebate take?\n",
    "    return rebate()\n",
    "\n",
    "def upInPut(path, B, K, rebate):\n",
    "    if getMax(path) >= B:\n",
    "        S_T = path[len(path) - 1]\n",
    "        intrinsic = K - S_T\n",
    "                \n",
    "        return intrinsic if intrinsic > 0 else 0\n",
    "    \n",
    "    # TODO: what does rebate take?\n",
    "    return rebate()"
   ]
  },
  {
   "cell_type": "markdown",
   "metadata": {},
   "source": [
    "## Knock Out"
   ]
  },
  {
   "cell_type": "code",
   "execution_count": 27,
   "metadata": {},
   "outputs": [],
   "source": [
    "def downOutCall(path, B, K, rebate):\n",
    "    if getMin(path) <= B:\n",
    "        return rebate()\n",
    "    \n",
    "    S_T = path[len(path) - 1]\n",
    "    intrinsic = S_T - K\n",
    "    \n",
    "    return intrinsic if intrinsic > 0 else 0\n",
    "\n",
    "def downOutPut(path, B, K, rebate):\n",
    "    if getMin(path) <= B:\n",
    "        return rebate()\n",
    "    \n",
    "    S_T = path[len(path) - 1]\n",
    "    intrinsic = K - S_T\n",
    "    \n",
    "    return intrinsic if intrinsic > 0 else 0\n",
    "\n",
    "def upOutCall(path, B, K, rebate):\n",
    "    if getMax(path) >= B:\n",
    "        return rebate()\n",
    "    \n",
    "    S_T = path[len(path) - 1]\n",
    "    intrinsic = S_T - K\n",
    "    \n",
    "    return intrinsic if intrinsic > 0 else 0\n",
    "\n",
    "def upOutPut(path, B, K, rebate):\n",
    "    if getMax(path) >= B:\n",
    "        return rebate()\n",
    "    \n",
    "    S_T = path[len(path) - 1]\n",
    "    intrinsic = K - S_T\n",
    "    \n",
    "    return intrinsic if intrinsic > 0 else 0"
   ]
  },
  {
   "cell_type": "markdown",
   "metadata": {},
   "source": [
    "## Parisian"
   ]
  },
  {
   "cell_type": "code",
   "execution_count": 28,
   "metadata": {},
   "outputs": [],
   "source": [
    "def parisDownInCall(path, barrier, K, rebate):\n",
    "    if (downParisCont(path, barrier) == True):\n",
    "        S_T = path[len(path) - 1]\n",
    "        intrinsic = S_T - K\n",
    "    \n",
    "        return intrinsic if intrinsic > 0 else 0\n",
    "    \n",
    "    return rebate()\n",
    "\n",
    "def parisDownInPut(path, barrier, K, rebate):\n",
    "    if (downParisCont(path, barrier) == True):\n",
    "        S_T = path[len(path) - 1]\n",
    "        intrinsic = K - S_T\n",
    "    \n",
    "        return intrinsic if intrinsic > 0 else 0\n",
    "    \n",
    "    return rebate()\n",
    "\n",
    "def parisUpInCall(path, barrier, K, rebate):\n",
    "    if (upParisCont(path, barrier) == True):\n",
    "        S_T = path[len(path) - 1]\n",
    "        intrinsic = S_T - K\n",
    "    \n",
    "        return intrinsic if intrinsic > 0 else 0\n",
    "    \n",
    "    return rebate()\n",
    "\n",
    "def parisUpInPut(path, barrier, K, rebate):\n",
    "    if (upParisCont(path, barrier) == True):\n",
    "        S_T = path[len(path) - 1]\n",
    "        intrinsic = K - S_T\n",
    "    \n",
    "        return intrinsic if intrinsic > 0 else 0\n",
    "    \n",
    "    return rebate()\n",
    "\n",
    "# Out\n",
    "\n",
    "def parisDownOutCall(path, barrier, K, rebate):\n",
    "    if (downParisCont(path, barrier) == True):\n",
    "        return rebate()\n",
    "\n",
    "    S_T = path[len(path) - 1]\n",
    "    intrinsic = S_T - K\n",
    "    \n",
    "    return intrinsic if intrinsic > 0 else 0\n",
    "\n",
    "def parisDownOutPut(path, barrier, K, rebate):\n",
    "    if (downParisCont(path, barrier) == True):\n",
    "        return rebate()\n",
    "    \n",
    "    S_T = path[len(path) - 1]\n",
    "    intrinsic = K - S_T\n",
    "    \n",
    "    return intrinsic if intrinsic > 0 else 0\n",
    "    \n",
    "def parisUpOutCall(path, barrier, K, rebate):\n",
    "    if (upParisCont(path, barrier) == True):\n",
    "        return rebate()\n",
    "\n",
    "    S_T = path[len(path) - 1]\n",
    "    intrinsic = S_T - K\n",
    "    \n",
    "    return intrinsic if intrinsic > 0 else 0\n",
    "\n",
    "def parisUpOutPut(path, barrier, K, rebate):\n",
    "    if (upParisCont(path, barrier) == True):\n",
    "        return rebate()\n",
    "    \n",
    "    S_T = path[len(path) - 1]\n",
    "    intrinsic = K - S_T\n",
    "    \n",
    "    return intrinsic if intrinsic > 0 else 0"
   ]
  },
  {
   "cell_type": "markdown",
   "metadata": {},
   "source": [
    "# Pricing"
   ]
  },
  {
   "cell_type": "code",
   "execution_count": 29,
   "metadata": {},
   "outputs": [],
   "source": [
    "# This applies to all non-chooser options\n",
    "\n",
    "# parameters:\n",
    "# path: path taken by the asset. One dimensional numeric array\n",
    "# r: risk free rate\n",
    "# payoff: the correct payoff function, like parisUpOutCall or asianAvgPriceCall\n",
    "def priceNonChooser(path, r, payoff):\n",
    "    T = len(path)\n",
    "    \n",
    "    return exp(-r*T)*payoff(path)\n",
    "\n",
    "## TODO: non-chooser pricing"
   ]
  },
  {
   "cell_type": "markdown",
   "metadata": {},
   "source": [
    "# Tests"
   ]
  },
  {
   "cell_type": "markdown",
   "metadata": {},
   "source": [
    "## Util: Parisian Continuity checkers"
   ]
  },
  {
   "cell_type": "code",
   "execution_count": 30,
   "metadata": {},
   "outputs": [],
   "source": [
    "# Down\n",
    "\n",
    "path = [100, 110, 100, 200]\n",
    "\n",
    "if (downParisCont(path, 90) != False):\n",
    "    print(\"Test failed! down parisian continuity failed\")\n",
    "\n",
    "path = [100, 80, 90, 200]\n",
    "\n",
    "if (downParisCont(path, 90) != True):\n",
    "    print(\"Test failed! down parisian continuity failed 2\")\n",
    "    \n",
    "path = [80, 80, 90, 60]\n",
    "\n",
    "if (downParisCont(path, 90) != True):\n",
    "    print(\"Test failed! down parisian continuity failed 3\")\n",
    "    \n",
    "path = [100, 100, 90, 100]\n",
    "\n",
    "if (downParisCont(path, 90) != False):\n",
    "    print(\"Test failed! down parisian continuity failed 4\")"
   ]
  },
  {
   "cell_type": "code",
   "execution_count": 31,
   "metadata": {},
   "outputs": [],
   "source": [
    "# Up\n",
    "\n",
    "path = [100, 110, 100, 200]\n",
    "\n",
    "if (upParisCont(path, 300) != False):\n",
    "    print(\"Test failed! down parisian continuity failed\")\n",
    "\n",
    "path = [50, 80, 90, 20]\n",
    "\n",
    "if (upParisCont(path, 80) != True):\n",
    "    print(\"Test failed! down parisian continuity failed 2\")\n",
    "    \n",
    "path = [80, 80, 90, 60]\n",
    "\n",
    "if (upParisCont(path, 80) != True):\n",
    "    print(\"Test failed! down parisian continuity failed 3\")\n",
    "    \n",
    "path = [80, 80, 90, 80]\n",
    "\n",
    "if (upParisCont(path, 90) != False):\n",
    "    print(\"Test failed! down parisian continuity failed 4\")"
   ]
  },
  {
   "cell_type": "markdown",
   "metadata": {},
   "source": [
    "## Asian:"
   ]
  },
  {
   "cell_type": "code",
   "execution_count": 32,
   "metadata": {},
   "outputs": [],
   "source": [
    "# Asian average price call positive\n",
    "\n",
    "path = [100, 100, 100, 100]\n",
    "strike = 75\n",
    "\n",
    "if (asianAvgPriceCall(path, strike) != 25):\n",
    "    print(\"Test failed! Asian Average Price Call Option produced wrong payoff\")\n",
    "    \n",
    "# Asian average price call zero\n",
    "\n",
    "path = [100, 57, 88, 120]\n",
    "strike = 150\n",
    "\n",
    "if (asianAvgPriceCall(path, strike) != 0):\n",
    "    print(\"Test failed! Asian Average Price Call Option produced wrong payoff\")"
   ]
  },
  {
   "cell_type": "code",
   "execution_count": 33,
   "metadata": {},
   "outputs": [],
   "source": [
    "#Asian average strike call positive\n",
    "\n",
    "path = [50, 0, 40, 100]\n",
    "\n",
    "if (asianAvgStrikeCall(path) != 100 - 47.5):\n",
    "    print(\"Test failed! Asian Average Strike Call Option produced wrong payoff\")\n",
    "    \n",
    "#Asian average strike call zero\n",
    "\n",
    "path = [50000, 0, 40, 100]\n",
    "\n",
    "if (asianAvgStrikeCall(path) != 0):\n",
    "    print(\"Test failed! Asian Average Strike Call Option produced wrong payoff\")"
   ]
  },
  {
   "cell_type": "code",
   "execution_count": 34,
   "metadata": {},
   "outputs": [],
   "source": [
    "#Asian average strike put positive\n",
    "\n",
    "path = [50, 0, 0, 40, 10]\n",
    "\n",
    "if (asianAvgStrikePut(path) != 20 - 10):\n",
    "    print(\"Test failed! Asian Average Strike Put Option produced wrong payoff\")\n",
    "    \n",
    "#Asian average strike put zero\n",
    "\n",
    "path = [0, 0, 40, 100]\n",
    "\n",
    "if (asianAvgStrikePut(path) != 0):\n",
    "    print(\"Test failed! Asian Average Strike Put Option produced wrong payoff\")"
   ]
  },
  {
   "cell_type": "markdown",
   "metadata": {},
   "source": [
    "## Lookback:"
   ]
  },
  {
   "cell_type": "code",
   "execution_count": 35,
   "metadata": {},
   "outputs": [],
   "source": [
    "# Lookback fixed call positive\n",
    "\n",
    "path = [50, 0, 100, 99]\n",
    "\n",
    "if (lookbackFixedCall(path, 75) != 25):\n",
    "    print(\"Test failed! Lookback fixed call produced wrong payoff\")\n",
    "\n",
    "# Lookback fixed call zero\n",
    "\n",
    "path = [50, 0, 50, 45]\n",
    "\n",
    "if (lookbackFixedCall(path, 75) != 0):\n",
    "    print(\"Test failed! lookback fixed call produced wrong payoff\")"
   ]
  },
  {
   "cell_type": "code",
   "execution_count": 36,
   "metadata": {},
   "outputs": [],
   "source": [
    "# Lookback fixed put positive\n",
    "\n",
    "path = [50, 0, 100, 99]\n",
    "\n",
    "if (lookbackFixedPut(path, 75) != 75):\n",
    "    print(\"Test failed! Lookback fixed call produced wrong payoff\")\n",
    "\n",
    "# Lookback fixed put zero\n",
    "\n",
    "path = [500, 1000, 500, 450]\n",
    "\n",
    "if (lookbackFixedPut(path, 75) != 0):\n",
    "    print(\"Test failed! lookback fixed call produced wrong payoff\")"
   ]
  },
  {
   "cell_type": "code",
   "execution_count": 37,
   "metadata": {},
   "outputs": [],
   "source": [
    "# Lookback float call positive\n",
    "\n",
    "path = [50, 30, 100, 101]\n",
    "\n",
    "if (lookbackFloatingCall(path) != 71):\n",
    "    print(\"Test failed! Lookback float call produced wrong payoff 1\")\n",
    "\n",
    "# Lookback fixed call zero\n",
    "\n",
    "path = [50, 70, 50, 20]\n",
    "\n",
    "if (lookbackFloatingCall(path) != 0):\n",
    "    print(\"Test failed! lookback float call produced wrong payoff 2\")"
   ]
  },
  {
   "cell_type": "code",
   "execution_count": 38,
   "metadata": {},
   "outputs": [],
   "source": [
    "# Lookback float put positive\n",
    "\n",
    "path = [50, 0, 100, 99]\n",
    "\n",
    "if (lookbackFloatingPut(path) != 1):\n",
    "    print(\"Test failed! Lookback float call produced wrong payoff 1\")\n",
    "\n",
    "# Lookback float put zero\n",
    "\n",
    "path = [50, 0, 50, 60]\n",
    "\n",
    "if (lookbackFloatingPut(path) != 0):\n",
    "    print(\"Test failed! lookback float call produced wrong payoff 2\")"
   ]
  },
  {
   "cell_type": "markdown",
   "metadata": {},
   "source": [
    "## Chooser"
   ]
  },
  {
   "cell_type": "code",
   "execution_count": 39,
   "metadata": {},
   "outputs": [],
   "source": [
    "# Chooser Put\n",
    "\n",
    "path = [50, 0, 70, 140]\n",
    "choiceTime = 2\n",
    "K = 100\n",
    "\n",
    "if (chooser(path, K, choiceTime) != 100-70):\n",
    "    print(\"Test failed! Lookback float call produced wrong payoff 1\")\n",
    "\n",
    "# Lookback float put zero\n",
    "\n",
    "choiceTime = 3\n",
    "\n",
    "if (chooser(path, K, choiceTime) != 140-100):\n",
    "    print(\"Test failed! lookback float call produced wrong payoff 2\")"
   ]
  },
  {
   "cell_type": "code",
   "execution_count": 40,
   "metadata": {},
   "outputs": [],
   "source": [
    "# This rebate is used in all tests\n",
    "\n",
    "def rebate():\n",
    "    return 123"
   ]
  },
  {
   "cell_type": "markdown",
   "metadata": {},
   "source": [
    "## Knock In"
   ]
  },
  {
   "cell_type": "code",
   "execution_count": 41,
   "metadata": {},
   "outputs": [],
   "source": [
    "# Down In non-rebate\n",
    "\n",
    "path = [50, 0, 100, 70]\n",
    "\n",
    "if (downInCall(path, 60, 40, rebate) != 70-40):\n",
    "    print(\"Test failed! down and in call produced wrong payoff 1\")\n",
    "\n",
    "# Down in rebate\n",
    "\n",
    "path = [50, 30, 50, 60]\n",
    "\n",
    "if (downInCall(path, 20, 40, rebate) != rebate()):\n",
    "    print(\"Test failed! down and in call produced wrong payoff 2\")"
   ]
  },
  {
   "cell_type": "code",
   "execution_count": 42,
   "metadata": {},
   "outputs": [],
   "source": [
    "# Down In non-rebate\n",
    "\n",
    "path = [50, 0, 100, 20]\n",
    "\n",
    "if (downInPut(path, 60, 40, rebate) != 40-20):\n",
    "    print(\"Test failed! down and in put produced wrong payoff 1\")\n",
    "\n",
    "# Down in rebate\n",
    "\n",
    "path = [50, 30, 50, 60]\n",
    "\n",
    "if (downInPut(path, 20, 40, rebate) != rebate()):\n",
    "    print(\"Test failed! down and in put produced wrong payoff 2\")"
   ]
  },
  {
   "cell_type": "code",
   "execution_count": 43,
   "metadata": {},
   "outputs": [],
   "source": [
    "# Up In non-rebate\n",
    "\n",
    "path = [50, 0, 100, 70]\n",
    "\n",
    "if (upInCall(path, 60, 40, rebate) != 70-40):\n",
    "    print(\"Test failed! up and in call produced wrong payoff 1\")\n",
    "\n",
    "# Up in rebate\n",
    "\n",
    "path = [50, 30, 50, 60]\n",
    "\n",
    "if (upInCall(path, 90, 40, rebate) != rebate()):\n",
    "    print(\"Test failed! up and in call produced wrong payoff 2\")"
   ]
  },
  {
   "cell_type": "code",
   "execution_count": 44,
   "metadata": {},
   "outputs": [],
   "source": [
    "# Up In non-rebate\n",
    "\n",
    "path = [50, 0, 100, 20]\n",
    "\n",
    "if (upInPut(path, 60, 40, rebate) != 40-20):\n",
    "    print(\"Test failed! up and in call produced wrong payoff 1\")\n",
    "\n",
    "# Up in rebate\n",
    "\n",
    "path = [50, 30, 50, 60]\n",
    "\n",
    "if (upInPut(path, 90, 40, rebate) != rebate()):\n",
    "    print(\"Test failed! up and in call produced wrong payoff 2\")"
   ]
  },
  {
   "cell_type": "markdown",
   "metadata": {},
   "source": [
    "## Knock Out"
   ]
  },
  {
   "cell_type": "code",
   "execution_count": 45,
   "metadata": {},
   "outputs": [],
   "source": [
    "# Down out non-rebate\n",
    "\n",
    "path = [70, 70, 100, 80]\n",
    "\n",
    "if (downOutCall(path, 60, 40, rebate) != 80-40):\n",
    "    print(\"Test failed! down and out call produced wrong payoff 1\")\n",
    "\n",
    "# Down out rebate\n",
    "\n",
    "path = [50, 30, 50, 60]\n",
    "\n",
    "if (downOutCall(path, 40, 40, rebate) != rebate()):\n",
    "    print(\"Test failed! down and out call produced wrong payoff 2\")"
   ]
  },
  {
   "cell_type": "code",
   "execution_count": 46,
   "metadata": {},
   "outputs": [],
   "source": [
    "# Down out non-rebate\n",
    "\n",
    "path = [70, 70, 100, 80]\n",
    "\n",
    "if (downOutPut(path, 60, 100, rebate) != 100-80):\n",
    "    print(\"Test failed! down and out call produced wrong payoff 1\")\n",
    "\n",
    "# Down out rebate\n",
    "\n",
    "path = [50, 30, 50, 60]\n",
    "\n",
    "if (downOutPut(path, 40, 40, rebate) != rebate()):\n",
    "    print(\"Test failed! down and out call produced wrong payoff 2\")"
   ]
  },
  {
   "cell_type": "code",
   "execution_count": 47,
   "metadata": {},
   "outputs": [],
   "source": [
    "# up out non-rebate\n",
    "\n",
    "path = [70, 70, 100, 80]\n",
    "\n",
    "if (upOutCall(path, 110, 40, rebate) != 80-40):\n",
    "    print(\"Test failed! up and out call produced wrong payoff 1\")\n",
    "\n",
    "# up out rebate\n",
    "\n",
    "path = [50, 30, 50, 60]\n",
    "\n",
    "if (upOutCall(path, 40, 40, rebate) != rebate()):\n",
    "    print(\"Test failed! up and out call produced wrong payoff 2\")"
   ]
  },
  {
   "cell_type": "code",
   "execution_count": 48,
   "metadata": {},
   "outputs": [],
   "source": [
    "# up out non-rebate\n",
    "\n",
    "path = [70, 70, 100, 80]\n",
    "\n",
    "if (upOutPut(path, 110, 400, rebate) != 400-80):\n",
    "    print(\"Test failed! up and out call produced wrong payoff 1\")\n",
    "\n",
    "# up out rebate\n",
    "\n",
    "path = [50, 30, 50, 60]\n",
    "\n",
    "if (upOutPut(path, 40, 40, rebate) != rebate()):\n",
    "    print(\"Test failed! up and out call produced wrong payoff 2\")"
   ]
  },
  {
   "cell_type": "markdown",
   "metadata": {},
   "source": [
    "## Parisian"
   ]
  },
  {
   "cell_type": "markdown",
   "metadata": {},
   "source": [
    "### Parisian Down-and-In"
   ]
  },
  {
   "cell_type": "code",
   "execution_count": 49,
   "metadata": {},
   "outputs": [],
   "source": [
    "# Parisian Down In Call no rebate\n",
    "\n",
    "path = [200, 100, 70, 80]\n",
    "K = 100\n",
    "\n",
    "if (parisDownInCall(path, 90, K, rebate) != 0):\n",
    "    print(\"Test failed! Parisian Down and In Call produced wrong payoff 1\")\n",
    "\n",
    "path = [200, 70, 70, 130]\n",
    "K = 100\n",
    "\n",
    "if (parisDownInCall(path, 90, K, rebate) != 130-100):\n",
    "    print(\"Test failed! Parisian Down and In Call produced wrong payoff 2\")\n",
    "    \n",
    "# Parisian Down In Call rebate\n",
    "\n",
    "path = [80, 100, 1, 110]\n",
    "\n",
    "if (parisDownInCall(path, 90, K, rebate) != rebate()):\n",
    "    print(\"Test failed! up and out call produced wrong payoff 3\")\n",
    "    \n",
    "    \n",
    "# Parisian Down In Put no rebate\n",
    "\n",
    "path = [200, 100, 70, 80]\n",
    "K = 100\n",
    "\n",
    "if (parisDownInPut(path, 90, K, rebate) != K-80):\n",
    "    print(\"Test failed! Parisian Down and In Call produced wrong payoff 1\")\n",
    "\n",
    "path = [200, 70, 70, 130]\n",
    "K = 100\n",
    "\n",
    "if (parisDownInPut(path, 90, K, rebate) != 0):\n",
    "    print(\"Test failed! Parisian Down and In Call produced wrong payoff 2\")\n",
    "    \n",
    "# Parisian Down In Call rebate\n",
    "\n",
    "path = [80, 100, 1, 110]\n",
    "\n",
    "if (parisDownInPut(path, 90, K, rebate) != rebate()):\n",
    "    print(\"Test failed! up and out call produced wrong payoff 3\")"
   ]
  },
  {
   "cell_type": "markdown",
   "metadata": {},
   "source": [
    "### Parisian Up-and-In"
   ]
  },
  {
   "cell_type": "code",
   "execution_count": 50,
   "metadata": {},
   "outputs": [],
   "source": [
    "# Parisian Up In Call no rebate\n",
    "\n",
    "path = [200, 100, 70, 80]\n",
    "K = 100\n",
    "\n",
    "if (parisUpInCall(path, 90, K, rebate) != 0):\n",
    "    print(\"Test failed! Parisian Up and In Call produced wrong payoff 1\")\n",
    "\n",
    "path = [20, 70, 70, 40]\n",
    "K = 30\n",
    "\n",
    "if (parisUpInCall(path, 50, K, rebate) != 40-30):\n",
    "    print(\"Test failed! Parisian Up and In Call produced wrong payoff 2\")\n",
    "    \n",
    "# Parisian Up In Call rebate\n",
    "\n",
    "path = [80, 100, 1, 110]\n",
    "\n",
    "if (parisUpInCall(path, 90, K, rebate) != rebate()):\n",
    "    print(\"Test failed! produced wrong payoff 3\")\n",
    "    \n",
    "    \n",
    "# Parisian Up In Put no rebate\n",
    "\n",
    "path = [200, 100, 70, 80]\n",
    "K = 100\n",
    "\n",
    "if (parisUpInPut(path, 90, K, rebate) != K-80):\n",
    "    print(\"Test failed! produced wrong payoff 4\")\n",
    "\n",
    "path = [20, 70, 70, 200]\n",
    "K = 100\n",
    "\n",
    "if (parisUpInPut(path, 50, K, rebate) != 0):\n",
    "    print(\"Test failed! Parisian up and In put produced wrong payoff 5\")\n",
    "    \n",
    "# Parisian Up In Put rebate\n",
    "\n",
    "path = [80, 100, 1, 110]\n",
    "\n",
    "if (parisUpInPut(path, 90, K, rebate) != rebate()):\n",
    "    print(\"Test failed! up and out put produced wrong payoff 6\")"
   ]
  },
  {
   "cell_type": "markdown",
   "metadata": {},
   "source": [
    "## Parisian Down-and-Out"
   ]
  },
  {
   "cell_type": "code",
   "execution_count": 51,
   "metadata": {},
   "outputs": [],
   "source": [
    "# Parisian Down Out Call rebate\n",
    "\n",
    "path = [200, 67, 80, 300]\n",
    "K = 100\n",
    "\n",
    "if (parisDownOutCall(path, 90, K, rebate) != rebate()):\n",
    "    print(\"Test failed! produced wrong payoff 1\")\n",
    "\n",
    "# Parisian Down Out Call no rebate\n",
    "\n",
    "path = [70, 700, 34, 130]\n",
    "K = 100\n",
    "\n",
    "if (parisDownOutCall(path, 90, K, rebate) != 130-100):\n",
    "    print(\"Test failed! produced wrong payoff 2\")\n",
    "    \n",
    "path = [80, 100, 1, 110]\n",
    "K = 130\n",
    "\n",
    "if (parisDownOutCall(path, 90, K, rebate) != 0):\n",
    "    print(\"Test failed! produced wrong payoff 3\")\n",
    "    \n",
    "# Parisian Down In Put no rebate\n",
    "\n",
    "path = [200, 100, 120, 80]\n",
    "K = 100\n",
    "\n",
    "if (parisDownOutPut(path, 90, K, rebate) != K-80):\n",
    "    print(\"Test failed! produced wrong payoff 4\")\n",
    "\n",
    "path = [200, 110, 90, 130]\n",
    "K = 100\n",
    "\n",
    "if (parisDownOutPut(path, 90, K, rebate) != 0):\n",
    "    print(\"Test failed! produced wrong payoff 5\")\n",
    "    \n",
    "# Parisian Down Out Put rebate\n",
    "\n",
    "path = [80, 80, 1, 110]\n",
    "\n",
    "if (parisDownOutPut(path, 90, K, rebate) != rebate()):\n",
    "    print(\"Test failed! produced wrong payoff 6\")"
   ]
  },
  {
   "cell_type": "markdown",
   "metadata": {},
   "source": [
    "### Parisian Up-and-Out"
   ]
  },
  {
   "cell_type": "code",
   "execution_count": 52,
   "metadata": {},
   "outputs": [],
   "source": [
    "# Parisian Up Out Call rebate\n",
    "\n",
    "path = [200, 100, 80, 300]\n",
    "K = 100\n",
    "\n",
    "if (parisUpOutCall(path, 90, K, rebate) != rebate()):\n",
    "    print(\"Test failed! produced wrong payoff 1\")\n",
    "\n",
    "# Parisian Up Out Call no rebate\n",
    "\n",
    "path = [70, 700, 34, 130]\n",
    "K = 100\n",
    "\n",
    "if (parisUpOutCall(path, 90, K, rebate) != 130-100):\n",
    "    print(\"Test failed! produced wrong payoff 2\")\n",
    "    \n",
    "path = [80, 100, 1, 110]\n",
    "K = 130\n",
    "\n",
    "if (parisUpOutCall(path, 90, K, rebate) != 0):\n",
    "    print(\"Test failed! produced wrong payoff 3\")\n",
    "    \n",
    "# Parisian Up In Put no rebate\n",
    "\n",
    "path = [200, 70, 120, 80]\n",
    "K = 100\n",
    "\n",
    "if (parisUpOutPut(path, 90, K, rebate) != K-80):\n",
    "    print(\"Test failed! produced wrong payoff 4\")\n",
    "\n",
    "path = [80, 90, 80, 130]\n",
    "K = 100\n",
    "\n",
    "if (parisUpOutPut(path, 90, K, rebate) != 0):\n",
    "    print(\"Test failed! produced wrong payoff 5\")\n",
    "    \n",
    "# Parisian Up Out Put rebate\n",
    "\n",
    "path = [800, 800, 1, 110]\n",
    "\n",
    "if (parisUpOutPut(path, 90, K, rebate) != rebate()):\n",
    "    print(\"Test failed! produced wrong payoff 6\")"
   ]
  },
  {
   "cell_type": "markdown",
   "metadata": {},
   "source": [
    "# Simulation"
   ]
  },
  {
   "cell_type": "code",
   "execution_count": 53,
   "metadata": {},
   "outputs": [],
   "source": [
    "# Some silly function to change the color of each asset path rotating accordingly\n",
    "def rotate_color(color):\n",
    "    colors = ['b','g','r','c','m','y','k']\n",
    "    if color == colors[len(colors)-1]:\n",
    "        return colors[0]\n",
    "    else:\n",
    "        for i in range(len(colors)):\n",
    "            if colors[i] == color:\n",
    "                return colors[i+1]"
   ]
  },
  {
   "cell_type": "code",
   "execution_count": 54,
   "metadata": {},
   "outputs": [
    {
     "data": {
      "image/png": "[encoded data removed]",
      "text/plain": [
       "<Figure size 432x288 with 1 Axes>"
      ]
     },
     "metadata": {
      "needs_background": "light"
     },
     "output_type": "display_data"
    }
   ],
   "source": [
    "# This is the simulation, analyzing the payoff of 5000 paths given the following:\n",
    "# Initial price S0 = 70\n",
    "# Strike price K = 72\n",
    "# Volatility of the stock price - 0.30\n",
    "# Risk-free rate r=r(t)= 0.04\n",
    "# Time Step = 1/365 (daily)\n",
    "# Time to maturity (in years) T = 0.50 (6 Months)\n",
    "# Number of Simulated Paths n = 5000\n",
    "sim_paths = assetPaths(70,0.04,.30,1/365,182,5000)\n",
    "#Plot the paths\n",
    "plt.title(\"Asset Paths\")\n",
    "plt.xlabel(\"Steps\")\n",
    "plt.ylabel(\"Value\")\n",
    "temp = 'b'\n",
    "for x in sim_paths:\n",
    "    i = np.arange(0,len(x))\n",
    "    j = np.array(x)\n",
    "    plt.plot(i,j,temp)\n",
    "    temp = rotate_color(temp)\n",
    "    \n",
    "plt.show()"
   ]
  },
  {
   "cell_type": "markdown",
   "metadata": {},
   "source": [
    "## Asian Option Payoffs"
   ]
  },
  {
   "cell_type": "markdown",
   "metadata": {},
   "source": [
    "### Asian Call (Arithmetic Average)"
   ]
  },
  {
   "cell_type": "code",
   "execution_count": 55,
   "metadata": {},
   "outputs": [
    {
     "name": "stdout",
     "output_type": "stream",
     "text": [
      "Average of the payoffs: 2.9080184047918114\n",
      "Percentage of payoffs less than the average: 0.7048\n"
     ]
    }
   ],
   "source": [
    "# Compute the average between each Asain Call Option Payoff\n",
    "payoffs = []\n",
    "for x in sim_paths:\n",
    "    payoffs.append(asianAvgPriceCall(x, 72))\n",
    "\n",
    "total = 0\n",
    "for x in payoffs:\n",
    "    total += x\n",
    "    \n",
    "average = total/len(payoffs)\n",
    "print(f\"Average of the payoffs: {average}\")\n",
    "temp = 0\n",
    "for x in payoffs:\n",
    "    if x < average:\n",
    "        temp += 1\n",
    "print(f\"Percentage of payoffs less than the average: {temp/len(payoffs)}\")"
   ]
  },
  {
   "cell_type": "markdown",
   "metadata": {},
   "source": [
    "### Asian Put (Arithmetic Average)"
   ]
  },
  {
   "cell_type": "code",
   "execution_count": 56,
   "metadata": {},
   "outputs": [
    {
     "name": "stdout",
     "output_type": "stream",
     "text": [
      "Average of the payoffs: 4.179705907806858\n",
      "Percentage of payoffs less than the average: 0.608\n"
     ]
    }
   ],
   "source": [
    "# Compute the average between each Asain Put Option Payoff\n",
    "payoffs = []\n",
    "for x in sim_paths:\n",
    "    payoffs.append(asianAvgPricePut(x, 72))\n",
    "\n",
    "total = 0\n",
    "for x in payoffs:\n",
    "    total += x\n",
    "    \n",
    "average = total/len(payoffs)\n",
    "print(f\"Average of the payoffs: {average}\")\n",
    "temp = 0\n",
    "for x in payoffs:\n",
    "    if x < average:\n",
    "        temp += 1\n",
    "print(f\"Percentage of payoffs less than the average: {temp/len(payoffs)}\")"
   ]
  },
  {
   "cell_type": "markdown",
   "metadata": {},
   "source": [
    "### Asian Call (Geometric Average)"
   ]
  },
  {
   "cell_type": "code",
   "execution_count": 57,
   "metadata": {},
   "outputs": [
    {
     "name": "stdout",
     "output_type": "stream",
     "text": [
      "Average of the payoffs: 3.9072541569110886\n",
      "Percentage of payoffs less than the average: 0.671\n"
     ]
    }
   ],
   "source": [
    "# Compute the average between each Asain Call (Geometric?) Option Payoff\n",
    "payoffs = []\n",
    "for x in sim_paths:\n",
    "    payoffs.append(asianAvgStrikeCall(x))\n",
    "\n",
    "total = 0\n",
    "for x in payoffs:\n",
    "    total += x\n",
    "    \n",
    "average = total/len(payoffs)\n",
    "print(f\"Average of the payoffs: {average}\")\n",
    "temp = 0\n",
    "for x in payoffs:\n",
    "    if x < average:\n",
    "        temp += 1\n",
    "print(f\"Percentage of payoffs less than the average: {temp/len(payoffs)}\")"
   ]
  },
  {
   "cell_type": "markdown",
   "metadata": {},
   "source": [
    "### Asian Put (Geometric Average)"
   ]
  },
  {
   "cell_type": "code",
   "execution_count": 58,
   "metadata": {},
   "outputs": [
    {
     "name": "stdout",
     "output_type": "stream",
     "text": [
      "Average of the payoffs: 3.06994608548603\n",
      "Percentage of payoffs less than the average: 0.6388\n"
     ]
    }
   ],
   "source": [
    "# Compute the average between each Asain Put (Geometric?) Option Payoff\n",
    "payoffs = []\n",
    "for x in sim_paths:\n",
    "    payoffs.append(asianAvgStrikePut(x))\n",
    "\n",
    "total = 0\n",
    "for x in payoffs:\n",
    "    total += x\n",
    "    \n",
    "average = total/len(payoffs)\n",
    "print(f\"Average of the payoffs: {average}\")\n",
    "temp = 0\n",
    "for x in payoffs:\n",
    "    if x < average:\n",
    "        temp += 1\n",
    "print(f\"Percentage of payoffs less than the average: {temp/len(payoffs)}\")"
   ]
  },
  {
   "cell_type": "markdown",
   "metadata": {},
   "source": [
    "## Looback Options"
   ]
  },
  {
   "cell_type": "markdown",
   "metadata": {},
   "source": [
    "### Lookback Fixed Strike Call"
   ]
  },
  {
   "cell_type": "code",
   "execution_count": 59,
   "metadata": {},
   "outputs": [
    {
     "name": "stdout",
     "output_type": "stream",
     "text": [
      "Average of the payoffs: 11.04683034908822\n",
      "Percentage of payoffs less than the average: 0.6016\n"
     ]
    }
   ],
   "source": [
    "# Compute the average between each Loopback Fixed Strike Call Option Payoff\n",
    "payoffs = []\n",
    "for x in sim_paths:\n",
    "    payoffs.append(lookbackFixedCall(x, 72))\n",
    "\n",
    "total = 0\n",
    "for x in payoffs:\n",
    "    total += x\n",
    "    \n",
    "average = total/len(payoffs)\n",
    "print(f\"Average of the payoffs: {average}\")\n",
    "temp = 0\n",
    "for x in payoffs:\n",
    "    if x < average:\n",
    "        temp += 1\n",
    "print(f\"Percentage of payoffs less than the average: {temp/len(payoffs)}\")"
   ]
  },
  {
   "cell_type": "markdown",
   "metadata": {},
   "source": [
    "### Lookback Fixed Strike Put"
   ]
  },
  {
   "cell_type": "code",
   "execution_count": 60,
   "metadata": {},
   "outputs": [
    {
     "name": "stdout",
     "output_type": "stream",
     "text": [
      "Average of the payoffs: 11.935855648292371\n",
      "Percentage of payoffs less than the average: 0.561\n"
     ]
    }
   ],
   "source": [
    "# Compute the average between each Loopback Fixed Strike Put Option Payoff\n",
    "payoffs = []\n",
    "for x in sim_paths:\n",
    "    payoffs.append(lookbackFixedPut(x, 72))\n",
    "\n",
    "total = 0\n",
    "for x in payoffs:\n",
    "    total += x\n",
    "    \n",
    "average = total/len(payoffs)\n",
    "print(f\"Average of the payoffs: {average}\")\n",
    "temp = 0\n",
    "for x in payoffs:\n",
    "    if x < average:\n",
    "        temp += 1\n",
    "print(f\"Percentage of payoffs less than the average: {temp/len(payoffs)}\")"
   ]
  },
  {
   "cell_type": "markdown",
   "metadata": {},
   "source": [
    "### Lookback Floating Strike Call"
   ]
  },
  {
   "cell_type": "code",
   "execution_count": 61,
   "metadata": {},
   "outputs": [
    {
     "name": "stdout",
     "output_type": "stream",
     "text": [
      "Average of the payoffs: 11.50147621670237\n",
      "Percentage of payoffs less than the average: 0.6036\n"
     ]
    }
   ],
   "source": [
    "# Compute the average between each Loopback Floating Strike Call Option Payoff\n",
    "payoffs = []\n",
    "for x in sim_paths:\n",
    "    payoffs.append(lookbackFloatingCall(x))\n",
    "\n",
    "total = 0\n",
    "for x in payoffs:\n",
    "    total += x\n",
    "    \n",
    "average = total/len(payoffs)\n",
    "print(f\"Average of the payoffs: {average}\")\n",
    "temp = 0\n",
    "for x in payoffs:\n",
    "    if x < average:\n",
    "        temp += 1\n",
    "print(f\"Percentage of payoffs less than the average: {temp/len(payoffs)}\")"
   ]
  },
  {
   "cell_type": "markdown",
   "metadata": {},
   "source": [
    "### Lookback Fixed Strike Put"
   ]
  },
  {
   "cell_type": "code",
   "execution_count": 62,
   "metadata": {},
   "outputs": [
    {
     "name": "stdout",
     "output_type": "stream",
     "text": [
      "Average of the payoffs: 11.305084112976315\n",
      "Percentage of payoffs less than the average: 0.5466\n"
     ]
    }
   ],
   "source": [
    "# Compute the average between each Loopback Floating Strike Put Option Payoff\n",
    "payoffs = []\n",
    "for x in sim_paths:\n",
    "    payoffs.append(lookbackFloatingPut(x))\n",
    "\n",
    "total = 0\n",
    "for x in payoffs:\n",
    "    total += x\n",
    "    \n",
    "average = total/len(payoffs)\n",
    "print(f\"Average of the payoffs: {average}\")\n",
    "temp = 0\n",
    "for x in payoffs:\n",
    "    if x < average:\n",
    "        temp += 1\n",
    "print(f\"Percentage of payoffs less than the average: {temp/len(payoffs)}\")"
   ]
  },
  {
   "cell_type": "markdown",
   "metadata": {},
   "source": [
    "## Chooser Option"
   ]
  },
  {
   "cell_type": "code",
   "execution_count": 63,
   "metadata": {},
   "outputs": [
    {
     "name": "stdout",
     "output_type": "stream",
     "text": [
      "Average of the payoffs: 8.538826435918134\n",
      "Percentage of payoffs less than the average: 0.5734\n"
     ]
    }
   ],
   "source": [
    "# Compute the average between each Chooser Option Payoff\n",
    "payoffs = []\n",
    "for x in sim_paths:\n",
    "    payoffs.append(chooser(x, 72, 90))\n",
    "\n",
    "total = 0\n",
    "for x in payoffs:\n",
    "    total += x\n",
    "    \n",
    "average = total/len(payoffs)\n",
    "print(f\"Average of the payoffs: {average}\")\n",
    "temp = 0\n",
    "for x in payoffs:\n",
    "    if x < average:\n",
    "        temp += 1\n",
    "print(f\"Percentage of payoffs less than the average: {temp/len(payoffs)}\")"
   ]
  },
  {
   "cell_type": "markdown",
   "metadata": {},
   "source": [
    "## Barrier Options"
   ]
  },
  {
   "cell_type": "code",
   "execution_count": 104,
   "metadata": {},
   "outputs": [],
   "source": [
    "def rebate():\n",
    "    return .12"
   ]
  },
  {
   "cell_type": "markdown",
   "metadata": {},
   "source": [
    "### Down-and-In Call"
   ]
  },
  {
   "cell_type": "code",
   "execution_count": 105,
   "metadata": {},
   "outputs": [
    {
     "name": "stdout",
     "output_type": "stream",
     "text": [
      "Average of the payoffs: 0.12000000000000394\n",
      "Percentage of payoffs less than the average: 1.0\n"
     ]
    }
   ],
   "source": [
    "# Compute the average between each Down-and-In Option Payoff\n",
    "payoffs = []\n",
    "for x in sim_paths:\n",
    "    payoffs.append(downInCall(x, 5, 72, rebate))\n",
    "\n",
    "total = 0\n",
    "for x in payoffs:\n",
    "    total += x\n",
    "    \n",
    "average = total/len(payoffs)\n",
    "print(f\"Average of the payoffs: {average}\")\n",
    "temp = 0\n",
    "for x in payoffs:\n",
    "    if x < average:\n",
    "        temp += 1\n",
    "print(f\"Percentage of payoffs less than the average: {temp/len(payoffs)}\")"
   ]
  },
  {
   "cell_type": "markdown",
   "metadata": {},
   "source": [
    "### Down-and-In Put"
   ]
  },
  {
   "cell_type": "code",
   "execution_count": 106,
   "metadata": {},
   "outputs": [
    {
     "name": "stdout",
     "output_type": "stream",
     "text": [
      "Average of the payoffs: 0.12000000000000394\n",
      "Percentage of payoffs less than the average: 1.0\n"
     ]
    }
   ],
   "source": [
    "# Compute the average between each Down-and-In Option Payoff\n",
    "payoffs = []\n",
    "for x in sim_paths:\n",
    "    payoffs.append(downInPut(x, 5, 72, rebate))\n",
    "\n",
    "total = 0\n",
    "for x in payoffs:\n",
    "    total += x\n",
    "    \n",
    "average = total/len(payoffs)\n",
    "print(f\"Average of the payoffs: {average}\")\n",
    "temp = 0\n",
    "for x in payoffs:\n",
    "    if x < average:\n",
    "        temp += 1\n",
    "print(f\"Percentage of payoffs less than the average: {temp/len(payoffs)}\")"
   ]
  },
  {
   "cell_type": "markdown",
   "metadata": {},
   "source": [
    "### Up-and-In Call"
   ]
  },
  {
   "cell_type": "code",
   "execution_count": 107,
   "metadata": {},
   "outputs": [
    {
     "name": "stdout",
     "output_type": "stream",
     "text": [
      "Average of the payoffs: 5.882639911689872\n",
      "Percentage of payoffs less than the average: 0.6926\n"
     ]
    }
   ],
   "source": [
    "# Compute the average between each Up-and-In Call Option Payoff\n",
    "payoffs = []\n",
    "for x in sim_paths:\n",
    "    payoffs.append(upInCall(x, 5, 72, 0))\n",
    "\n",
    "total = 0\n",
    "for x in payoffs:\n",
    "    total += x\n",
    "    \n",
    "average = total/len(payoffs)\n",
    "print(f\"Average of the payoffs: {average}\")\n",
    "temp = 0\n",
    "for x in payoffs:\n",
    "    if x < average:\n",
    "        temp += 1\n",
    "print(f\"Percentage of payoffs less than the average: {temp/len(payoffs)}\")"
   ]
  },
  {
   "cell_type": "markdown",
   "metadata": {},
   "source": [
    "### Up-and-In Put"
   ]
  },
  {
   "cell_type": "code",
   "execution_count": 108,
   "metadata": {},
   "outputs": [
    {
     "name": "stdout",
     "output_type": "stream",
     "text": [
      "Average of the payoffs: 6.317019343279845\n",
      "Percentage of payoffs less than the average: 0.613\n"
     ]
    }
   ],
   "source": [
    "# Compute the average between each Up-and-In Put Option Payoff\n",
    "payoffs = []\n",
    "for x in sim_paths:\n",
    "    payoffs.append(upInPut(x, 5, 72, 0))\n",
    "\n",
    "total = 0\n",
    "for x in payoffs:\n",
    "    total += x\n",
    "    \n",
    "average = total/len(payoffs)\n",
    "print(f\"Average of the payoffs: {average}\")\n",
    "temp = 0\n",
    "for x in payoffs:\n",
    "    if x < average:\n",
    "        temp += 1\n",
    "print(f\"Percentage of payoffs less than the average: {temp/len(payoffs)}\")"
   ]
  },
  {
   "cell_type": "markdown",
   "metadata": {},
   "source": [
    "### Down-and-Out Put"
   ]
  },
  {
   "cell_type": "code",
   "execution_count": 109,
   "metadata": {},
   "outputs": [
    {
     "name": "stdout",
     "output_type": "stream",
     "text": [
      "Average of the payoffs: 6.317019343279845\n",
      "Percentage of payoffs less than the average: 0.613\n"
     ]
    }
   ],
   "source": [
    "# Compute the average between each Down-and-Out Put Option Payoff\n",
    "payoffs = []\n",
    "for x in sim_paths:\n",
    "    payoffs.append(downOutPut(x, 5, 72, 0))\n",
    "\n",
    "total = 0\n",
    "for x in payoffs:\n",
    "    total += x\n",
    "    \n",
    "average = total/len(payoffs)\n",
    "print(f\"Average of the payoffs: {average}\")\n",
    "temp = 0\n",
    "for x in payoffs:\n",
    "    if x < average:\n",
    "        temp += 1\n",
    "print(f\"Percentage of payoffs less than the average: {temp/len(payoffs)}\")"
   ]
  },
  {
   "cell_type": "markdown",
   "metadata": {},
   "source": [
    "### Down-and-Out Call"
   ]
  },
  {
   "cell_type": "code",
   "execution_count": 110,
   "metadata": {},
   "outputs": [
    {
     "name": "stdout",
     "output_type": "stream",
     "text": [
      "Average of the payoffs: 5.882639911689872\n",
      "Percentage of payoffs less than the average: 0.6926\n"
     ]
    }
   ],
   "source": [
    "# Compute the average between each Down-and-Out Call Option Payoff\n",
    "payoffs = []\n",
    "for x in sim_paths:\n",
    "    payoffs.append(downOutCall(x, 5, 72, 0))\n",
    "\n",
    "total = 0\n",
    "for x in payoffs:\n",
    "    total += x\n",
    "    \n",
    "average = total/len(payoffs)\n",
    "print(f\"Average of the payoffs: {average}\")\n",
    "temp = 0\n",
    "for x in payoffs:\n",
    "    if x < average:\n",
    "        temp += 1\n",
    "print(f\"Percentage of payoffs less than the average: {temp/len(payoffs)}\")"
   ]
  },
  {
   "cell_type": "markdown",
   "metadata": {},
   "source": [
    "### Up-And Out Put"
   ]
  },
  {
   "cell_type": "code",
   "execution_count": 111,
   "metadata": {},
   "outputs": [
    {
     "name": "stdout",
     "output_type": "stream",
     "text": [
      "Average of the payoffs: 0.12000000000000394\n",
      "Percentage of payoffs less than the average: 1.0\n"
     ]
    }
   ],
   "source": [
    "# Compute the average between each Up-and-Out Put Option Payoff\n",
    "payoffs = []\n",
    "\n",
    "for x in sim_paths:\n",
    "    payoffs.append(upOutPut(x, 5, 72, rebate))\n",
    "\n",
    "total = 0\n",
    "for x in payoffs:\n",
    "    total += x\n",
    "    \n",
    "average = total/len(payoffs)\n",
    "print(f\"Average of the payoffs: {average}\")\n",
    "temp = 0\n",
    "for x in payoffs:\n",
    "    if x < average:\n",
    "        temp += 1\n",
    "print(f\"Percentage of payoffs less than the average: {temp/len(payoffs)}\")"
   ]
  },
  {
   "cell_type": "markdown",
   "metadata": {},
   "source": [
    "### Up-And Out Call"
   ]
  },
  {
   "cell_type": "code",
   "execution_count": 112,
   "metadata": {},
   "outputs": [
    {
     "name": "stdout",
     "output_type": "stream",
     "text": [
      "Average of the payoffs: 0.12000000000000394\n",
      "Percentage of payoffs less than the average: 1.0\n"
     ]
    }
   ],
   "source": [
    "# Compute the average between each Up-and-Out Call Option Payoff\n",
    "payoffs = []\n",
    "for x in sim_paths:\n",
    "    payoffs.append(upOutCall(x, 5, 72, rebate))\n",
    "\n",
    "total = 0\n",
    "for x in payoffs:\n",
    "    total += x\n",
    "    \n",
    "average = total/len(payoffs)\n",
    "print(f\"Average of the payoffs: {average}\")\n",
    "temp = 0\n",
    "for x in payoffs:\n",
    "    if x < average:\n",
    "        temp += 1\n",
    "print(f\"Percentage of payoffs less than the average: {temp/len(payoffs)}\")"
   ]
  },
  {
   "cell_type": "markdown",
   "metadata": {},
   "source": [
    "## Parisian Options"
   ]
  },
  {
   "cell_type": "markdown",
   "metadata": {},
   "source": [
    "### Parisian Down-and-In Call"
   ]
  },
  {
   "cell_type": "code",
   "execution_count": 113,
   "metadata": {},
   "outputs": [
    {
     "name": "stdout",
     "output_type": "stream",
     "text": [
      "Average of the payoffs: 0.12000000000000394\n",
      "Percentage of payoffs less than the average: 1.0\n"
     ]
    }
   ],
   "source": [
    "# Compute the average between each Down-and-in Parisian Call Option Payoff\n",
    "payoffs = []\n",
    "for x in sim_paths:\n",
    "    payoffs.append(parisDownInCall(x,5,72,rebate))\n",
    "\n",
    "total = 0\n",
    "for x in payoffs:\n",
    "    total += x\n",
    "    \n",
    "average = total/len(payoffs)\n",
    "print(f\"Average of the payoffs: {average}\")\n",
    "temp = 0\n",
    "for x in payoffs:\n",
    "    if x < average:\n",
    "        temp += 1\n",
    "print(f\"Percentage of payoffs less than the average: {temp/len(payoffs)}\")"
   ]
  },
  {
   "cell_type": "markdown",
   "metadata": {},
   "source": [
    "### Parisian Down-and-In Put"
   ]
  },
  {
   "cell_type": "code",
   "execution_count": 114,
   "metadata": {},
   "outputs": [
    {
     "name": "stdout",
     "output_type": "stream",
     "text": [
      "Average of the payoffs: 0.12000000000000394\n",
      "Percentage of payoffs less than the average: 1.0\n"
     ]
    }
   ],
   "source": [
    "# Compute the average between each Down-and-in Parisian Put Option Payoff\n",
    "payoffs = []\n",
    "for x in sim_paths:\n",
    "    payoffs.append(parisDownInPut(x,5,72,rebate))\n",
    "\n",
    "total = 0\n",
    "for x in payoffs:\n",
    "    total += x\n",
    "    \n",
    "average = total/len(payoffs)\n",
    "print(f\"Average of the payoffs: {average}\")\n",
    "temp = 0\n",
    "for x in payoffs:\n",
    "    if x < average:\n",
    "        temp += 1\n",
    "print(f\"Percentage of payoffs less than the average: {temp/len(payoffs)}\")"
   ]
  },
  {
   "cell_type": "markdown",
   "metadata": {},
   "source": [
    "### Parisian Up-and-In Call"
   ]
  },
  {
   "cell_type": "code",
   "execution_count": 115,
   "metadata": {},
   "outputs": [
    {
     "name": "stdout",
     "output_type": "stream",
     "text": [
      "Average of the payoffs: 5.882639911689872\n",
      "Percentage of payoffs less than the average: 0.6926\n"
     ]
    }
   ],
   "source": [
    "# Compute the average between each Up-and-in Parisian Call Option Payoff\n",
    "payoffs = []\n",
    "for x in sim_paths:\n",
    "    payoffs.append(parisUpInCall(x,5,72,rebate))\n",
    "\n",
    "total = 0\n",
    "for x in payoffs:\n",
    "    total += x\n",
    "    \n",
    "average = total/len(payoffs)\n",
    "print(f\"Average of the payoffs: {average}\")\n",
    "temp = 0\n",
    "for x in payoffs:\n",
    "    if x < average:\n",
    "        temp += 1\n",
    "print(f\"Percentage of payoffs less than the average: {temp/len(payoffs)}\")"
   ]
  },
  {
   "cell_type": "markdown",
   "metadata": {},
   "source": [
    "### Parisian Up-and-in Put"
   ]
  },
  {
   "cell_type": "code",
   "execution_count": 116,
   "metadata": {},
   "outputs": [
    {
     "name": "stdout",
     "output_type": "stream",
     "text": [
      "Average of the payoffs: 6.317019343279845\n",
      "Percentage of payoffs less than the average: 0.613\n"
     ]
    }
   ],
   "source": [
    "# Compute the average between each Up-and-in Parisian Put Option Payoff\n",
    "payoffs = []\n",
    "for x in sim_paths:\n",
    "    payoffs.append(parisUpInPut(x,5,72,rebate))\n",
    "\n",
    "total = 0\n",
    "for x in payoffs:\n",
    "    total += x\n",
    "    \n",
    "average = total/len(payoffs)\n",
    "print(f\"Average of the payoffs: {average}\")\n",
    "temp = 0\n",
    "for x in payoffs:\n",
    "    if x < average:\n",
    "        temp += 1\n",
    "print(f\"Percentage of payoffs less than the average: {temp/len(payoffs)}\")"
   ]
  },
  {
   "cell_type": "markdown",
   "metadata": {},
   "source": [
    "### Parisian Down-and-out Call"
   ]
  },
  {
   "cell_type": "code",
   "execution_count": null,
   "metadata": {},
   "outputs": [],
   "source": [
    "# Compute the average between each Down-and-out Parisian Call Option Payoff\n",
    "payoffs = []\n",
    "for x in sim_paths:\n",
    "    payoffs.append(parisDownOutCall(x,5,72,rebate))\n",
    "\n",
    "total = 0\n",
    "for x in payoffs:\n",
    "    total += x\n",
    "    \n",
    "average = total/len(payoffs)\n",
    "print(f\"Average of the payoffs: {average}\")\n",
    "temp = 0\n",
    "for x in payoffs:\n",
    "    if x < average:\n",
    "        temp += 1\n",
    "print(f\"Percentage of payoffs less than the average: {temp/len(payoffs)}\")"
   ]
  },
  {
   "cell_type": "markdown",
   "metadata": {},
   "source": [
    "### Parisian Down-and-Out Put"
   ]
  },
  {
   "cell_type": "code",
   "execution_count": null,
   "metadata": {},
   "outputs": [],
   "source": [
    "# Compute the average between each Down-and-out Parisian Put Option Payoff\n",
    "payoffs = []\n",
    "for x in sim_paths:\n",
    "    payoffs.append(parisDownOutPut(x,5,72,rebate))\n",
    "\n",
    "total = 0\n",
    "for x in payoffs:\n",
    "    total += x\n",
    "    \n",
    "average = total/len(payoffs)\n",
    "print(f\"Average of the payoffs: {average}\")\n",
    "temp = 0\n",
    "for x in payoffs:\n",
    "    if x < average:\n",
    "        temp += 1\n",
    "print(f\"Percentage of payoffs less than the average: {temp/len(payoffs)}\")"
   ]
  },
  {
   "cell_type": "markdown",
   "metadata": {},
   "source": [
    "### Parisian Up-and-out Put"
   ]
  },
  {
   "cell_type": "code",
   "execution_count": null,
   "metadata": {},
   "outputs": [],
   "source": [
    "# Compute the average between each Up-and-out Parisian Put Option Payoff\n",
    "payoffs = []\n",
    "for x in sim_paths:\n",
    "    payoffs.append(parisUpOutPut(x,5,72,rebate))\n",
    "\n",
    "total = 0\n",
    "for x in payoffs:\n",
    "    total += x\n",
    "    \n",
    "average = total/len(payoffs)\n",
    "print(f\"Average of the payoffs: {average}\")\n",
    "temp = 0\n",
    "for x in payoffs:\n",
    "    if x < average:\n",
    "        temp += 1\n",
    "print(f\"Percentage of payoffs less than the average: {temp/len(payoffs)}\")"
   ]
  },
  {
   "cell_type": "markdown",
   "metadata": {},
   "source": [
    "### Parisian Up-and-out Call"
   ]
  },
  {
   "cell_type": "code",
   "execution_count": null,
   "metadata": {},
   "outputs": [],
   "source": [
    "# Compute the average between each Up-and-out Parisian Call Option Payoff\n",
    "payoffs = []\n",
    "for x in sim_paths:\n",
    "    payoffs.append(parisUpOutCall(x,5,72,rebate))\n",
    "\n",
    "total = 0\n",
    "for x in payoffs:\n",
    "    total += x\n",
    "    \n",
    "average = total/len(payoffs)\n",
    "print(f\"Average of the payoffs: {average}\")\n",
    "temp = 0\n",
    "for x in payoffs:\n",
    "    if x < average:\n",
    "        temp += 1\n",
    "print(f\"Percentage of payoffs less than the average: {temp/len(payoffs)}\")"
   ]
  },
  {
   "cell_type": "code",
   "execution_count": null,
   "metadata": {},
   "outputs": [],
   "source": []
  },
  {
   "cell_type": "code",
   "execution_count": null,
   "metadata": {},
   "outputs": [],
   "source": []
  },
  {
   "cell_type": "code",
   "execution_count": null,
   "metadata": {},
   "outputs": [],
   "source": []
  },
  {
   "cell_type": "code",
   "execution_count": null,
   "metadata": {},
   "outputs": [],
   "source": []
  }
 ],
 "metadata": {
  "kernelspec": {
   "display_name": "Python 3",
   "language": "python",
   "name": "python3"
  },
  "language_info": {
   "codemirror_mode": {
    "name": "ipython",
    "version": 3
   },
   "file_extension": ".py",
   "mimetype": "text/x-python",
   "name": "python",
   "nbconvert_exporter": "python",
   "pygments_lexer": "ipython3",
   "version": "3.8.5"
  }
 },
 "nbformat": 4,
 "nbformat_minor": 2
}

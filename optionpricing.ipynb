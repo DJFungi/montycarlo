{
 "cells": [
  {
   "cell_type": "markdown",
   "metadata": {},
   "source": [
    "# Modeling Exotic Option Prices with Monte Carlo\n",
    "\n",
    "**Brendan Reid, Calvin Combs, Dalton Fowler, Xander Struntz**"
   ]
  },
  {
   "cell_type": "markdown",
   "metadata": {},
   "source": [
    "## Introduction"
   ]
  },
  {
   "cell_type": "code",
   "execution_count": 1,
   "metadata": {
    "scrolled": true
   },
   "outputs": [
    {
     "name": "stdout",
     "output_type": "stream",
     "text": [
      "\u001b[33mWARNING: Value for scheme.platlib does not match. Please report this to <https://github.com/pypa/pip/issues/9617>\n",
      "distutils: /usr/local/lib/python3.8/dist-packages\n",
      "sysconfig: /usr/lib/python3.8/site-packages\u001b[0m\n",
      "\u001b[33mWARNING: Value for scheme.purelib does not match. Please report this to <https://github.com/pypa/pip/issues/9617>\n",
      "distutils: /usr/local/lib/python3.8/dist-packages\n",
      "sysconfig: /usr/lib/python3.8/site-packages\u001b[0m\n",
      "\u001b[33mWARNING: Value for scheme.headers does not match. Please report this to <https://github.com/pypa/pip/issues/9617>\n",
      "distutils: /usr/local/include/python3.8/UNKNOWN\n",
      "sysconfig: /usr/include/python3.8\u001b[0m\n",
      "\u001b[33mWARNING: Value for scheme.scripts does not match. Please report this to <https://github.com/pypa/pip/issues/9617>\n",
      "distutils: /usr/local/bin\n",
      "sysconfig: /usr/bin\u001b[0m\n",
      "\u001b[33mWARNING: Value for scheme.data does not match. Please report this to <https://github.com/pypa/pip/issues/9617>\n",
      "distutils: /usr/local\n",
      "sysconfig: /usr\u001b[0m\n",
      "\u001b[33mWARNING: Additional context:\n",
      "user = False\n",
      "home = None\n",
      "root = None\n",
      "prefix = None\u001b[0m\n",
      "Defaulting to user installation because normal site-packages is not writeable\n",
      "Requirement already satisfied: numpy in /home/bonk/.local/lib/python3.8/site-packages (1.20.2)\n",
      "\u001b[33mWARNING: Value for scheme.headers does not match. Please report this to <https://github.com/pypa/pip/issues/9617>\n",
      "distutils: /home/bonk/.local/include/python3.8/UNKNOWN\n",
      "sysconfig: /home/bonk/.local/include/python3.8\u001b[0m\n",
      "\u001b[33mWARNING: Additional context:\n",
      "user = True\n",
      "home = None\n",
      "root = None\n",
      "prefix = None\u001b[0m\n",
      "\u001b[33mWARNING: Value for scheme.platlib does not match. Please report this to <https://github.com/pypa/pip/issues/9617>\n",
      "distutils: /usr/local/lib/python3.8/dist-packages\n",
      "sysconfig: /usr/lib/python3.8/site-packages\u001b[0m\n",
      "\u001b[33mWARNING: Value for scheme.purelib does not match. Please report this to <https://github.com/pypa/pip/issues/9617>\n",
      "distutils: /usr/local/lib/python3.8/dist-packages\n",
      "sysconfig: /usr/lib/python3.8/site-packages\u001b[0m\n",
      "\u001b[33mWARNING: Value for scheme.headers does not match. Please report this to <https://github.com/pypa/pip/issues/9617>\n",
      "distutils: /usr/local/include/python3.8/UNKNOWN\n",
      "sysconfig: /usr/include/python3.8\u001b[0m\n",
      "\u001b[33mWARNING: Value for scheme.scripts does not match. Please report this to <https://github.com/pypa/pip/issues/9617>\n",
      "distutils: /usr/local/bin\n",
      "sysconfig: /usr/bin\u001b[0m\n",
      "\u001b[33mWARNING: Value for scheme.data does not match. Please report this to <https://github.com/pypa/pip/issues/9617>\n",
      "distutils: /usr/local\n",
      "sysconfig: /usr\u001b[0m\n",
      "\u001b[33mWARNING: Additional context:\n",
      "user = False\n",
      "home = None\n",
      "root = None\n",
      "prefix = None\u001b[0m\n",
      "Defaulting to user installation because normal site-packages is not writeable\n",
      "Requirement already satisfied: matplotlib in /home/bonk/.local/lib/python3.8/site-packages (3.4.1)\n",
      "Requirement already satisfied: pillow>=6.2.0 in /home/bonk/.local/lib/python3.8/site-packages (from matplotlib) (8.2.0)\n",
      "Requirement already satisfied: cycler>=0.10 in /home/bonk/.local/lib/python3.8/site-packages (from matplotlib) (0.10.0)\n",
      "Requirement already satisfied: python-dateutil>=2.7 in /home/bonk/.local/lib/python3.8/site-packages (from matplotlib) (2.8.1)\n",
      "Requirement already satisfied: pyparsing>=2.2.1 in /home/bonk/.local/lib/python3.8/site-packages (from matplotlib) (2.4.7)\n",
      "Requirement already satisfied: numpy>=1.16 in /home/bonk/.local/lib/python3.8/site-packages (from matplotlib) (1.20.2)\n",
      "Requirement already satisfied: kiwisolver>=1.0.1 in /home/bonk/.local/lib/python3.8/site-packages (from matplotlib) (1.3.1)\n",
      "Requirement already satisfied: six in /usr/lib/python3/dist-packages (from cycler>=0.10->matplotlib) (1.14.0)\n",
      "\u001b[33mWARNING: Value for scheme.headers does not match. Please report this to <https://github.com/pypa/pip/issues/9617>\n",
      "distutils: /home/bonk/.local/include/python3.8/UNKNOWN\n",
      "sysconfig: /home/bonk/.local/include/python3.8\u001b[0m\n",
      "\u001b[33mWARNING: Additional context:\n",
      "user = True\n",
      "home = None\n",
      "root = None\n",
      "prefix = None\u001b[0m\n"
     ]
    }
   ],
   "source": [
    "!pip install numpy\n",
    "!pip install matplotlib"
   ]
  },
  {
   "cell_type": "code",
   "execution_count": 2,
   "metadata": {},
   "outputs": [],
   "source": [
    "import numpy as np\n",
    "import matplotlib.pyplot as plt"
   ]
  },
  {
   "cell_type": "code",
   "execution_count": 3,
   "metadata": {},
   "outputs": [],
   "source": [
    "# Author: Calvin Combs\n",
    "\n",
    "# generates matrix of stock paths.\n",
    "# rows represent path of a stock at each time step.\n",
    "# each stock starts from the same price.\n",
    "\n",
    "# parameters:\n",
    "# S0: initial stock price\n",
    "# mu: expected return of stock\n",
    "# sig: standard deviation of stock price\n",
    "# dt: size of time step (annual; give 1/365 for daily)\n",
    "# steps: number of time steps to generate\n",
    "# numPaths: number of stock paths to generate\n",
    "def assetPaths(S0,mu,sig,dt,steps,numPaths):\n",
    "    drift = mu - sig*sig/2\n",
    "    \n",
    "    cProd = np.cumprod(np.exp(drift*dt+sig*np.sqrt(dt)*np.random.normal(0, 1, (steps,numPaths))), axis=0)\n",
    "\n",
    "    # build array\n",
    "    S = S0 * (np.vstack((np.ones((1,numPaths)), (cProd))))\n",
    "    \n",
    "    return S.T"
   ]
  },
  {
   "cell_type": "markdown",
   "metadata": {},
   "source": [
    "We give some examples of calling `assetPaths()`. (This is for personal reference, we might want to delete these when we submit this project)."
   ]
  },
  {
   "cell_type": "code",
   "execution_count": 4,
   "metadata": {},
   "outputs": [
    {
     "name": "stdout",
     "output_type": "stream",
     "text": [
      "[100.          97.93971295  83.36769756 108.27803231 100.16777382\n",
      " 126.04889508]\n"
     ]
    }
   ],
   "source": [
    "# Each row is a path\n",
    "paths = assetPaths(100, .15, .3, 1/4, 5, 3)\n",
    "pathOne = paths[0]\n",
    "print(pathOne)"
   ]
  },
  {
   "cell_type": "code",
   "execution_count": 5,
   "metadata": {},
   "outputs": [
    {
     "name": "stdout",
     "output_type": "stream",
     "text": [
      "[100. 100. 100.]\n"
     ]
    }
   ],
   "source": [
    "# Note: the asset paths are stored in rows, not the columns, of the matrix.\n",
    "# Thus the first column is the initial price of each asset\n",
    "print(paths.T[0])"
   ]
  },
  {
   "cell_type": "code",
   "execution_count": 6,
   "metadata": {},
   "outputs": [
    {
     "name": "stdout",
     "output_type": "stream",
     "text": [
      "[100.         101.40116805  97.85675033  99.18372123  83.44736092\n",
      "  74.62493714]\n"
     ]
    }
   ],
   "source": [
    "# A different path:\n",
    "pathTwo = paths[1]\n",
    "print(pathTwo)"
   ]
  },
  {
   "cell_type": "code",
   "execution_count": 7,
   "metadata": {},
   "outputs": [],
   "source": [
    "# compute a discrete integral\n",
    "\n",
    "# parameters:\n",
    "# arr: an array. Must only contain numeric types.\n",
    "def discreteIntegral(arr):\n",
    "    result = 0\n",
    "        \n",
    "    for i in range(0, len(arr)):\n",
    "        result += arr[i] * (1 / len(arr))\n",
    "        \n",
    "    return result"
   ]
  },
  {
   "cell_type": "code",
   "execution_count": 8,
   "metadata": {},
   "outputs": [
    {
     "name": "stdout",
     "output_type": "stream",
     "text": [
      "2.0\n",
      "77.72623517663226\n"
     ]
    }
   ],
   "source": [
    "# We give some examples of calling discreteIntegral\n",
    "\n",
    "# we expect 1/3 (1 + 2 + 3) = 2\n",
    "print(discreteIntegral([1, 2, 3]))\n",
    "\n",
    "paths = assetPaths(100, .8, .9, 1/12, 10, 5)[0]\n",
    "print(discreteIntegral(paths))"
   ]
  },
  {
   "cell_type": "code",
   "execution_count": 9,
   "metadata": {},
   "outputs": [],
   "source": [
    "# Simple functions to find the max and min of a array.\n",
    "# We will be using these to help plot our outputs.\n",
    "\n",
    "# NOTE: I thought I needed this for plotting but it appears not\n",
    "# leaving incase we need at another time.\n",
    "def getMax(arr):\n",
    "    max = arr[0]\n",
    "    for x in arr[1:]:\n",
    "        if x > max:\n",
    "            max = x\n",
    "    return max\n",
    "\n",
    "def getMin(arr):\n",
    "    min = arr[0]\n",
    "    for x in arr[1:]:\n",
    "        if x < min:\n",
    "            min = x\n",
    "    return min"
   ]
  },
  {
   "cell_type": "code",
   "execution_count": 10,
   "metadata": {},
   "outputs": [
    {
     "name": "stdout",
     "output_type": "stream",
     "text": [
      "126.04889507881329|83.3676975643108\n",
      "101.40116804960348|74.62493713739988\n"
     ]
    }
   ],
   "source": [
    "# Here we test the functions by a very straightforward test\n",
    "print(getMax(pathOne), getMin(pathOne), sep=\"|\")\n",
    "print(getMax(pathTwo), getMin(pathTwo), sep=\"|\")"
   ]
  },
  {
   "cell_type": "code",
   "execution_count": 11,
   "metadata": {},
   "outputs": [
    {
     "data": {
      "image/png": "[encoded data removed]",
      "text/plain": [
       "<Figure size 432x288 with 1 Axes>"
      ]
     },
     "metadata": {
      "needs_background": "light"
     },
     "output_type": "display_data"
    }
   ],
   "source": [
    "# Plot the first asset path\n",
    "plt.title(\"Option Payoffs\")\n",
    "plt.xlabel(\"X Axis\")\n",
    "plt.ylabel(\"Y Axis\")\n",
    "x = np.arange(0, len(pathOne))\n",
    "y = np.array(pathOne)\n",
    "plt.plot(x, y, color = \"green\")\n",
    "plt.show()"
   ]
  },
  {
   "cell_type": "code",
   "execution_count": 12,
   "metadata": {},
   "outputs": [
    {
     "data": {
      "image/png": "[encoded data removed]",
      "text/plain": [
       "<Figure size 432x288 with 1 Axes>"
      ]
     },
     "metadata": {
      "needs_background": "light"
     },
     "output_type": "display_data"
    }
   ],
   "source": [
    "# Plot the second asset path\n",
    "plt.title(\"Option Payoffs\")\n",
    "plt.xlabel(\"X Axis\")\n",
    "plt.ylabel(\"Y Axis\")\n",
    "x = np.arange(0, len(pathTwo))\n",
    "y = np.array(pathTwo)\n",
    "plt.plot(x, y, color = \"green\")\n",
    "plt.show()"
   ]
  },
  {
   "cell_type": "markdown",
   "metadata": {},
   "source": [
    "Option Payoff Functions"
   ]
  },
  {
   "cell_type": "code",
   "execution_count": 13,
   "metadata": {},
   "outputs": [],
   "source": [
    "# All functions have one or more of these parameters\n",
    "\n",
    "# path: path taken by the asset\n",
    "# K: strike price"
   ]
  },
  {
   "cell_type": "markdown",
   "metadata": {},
   "source": [
    "Asian:"
   ]
  },
  {
   "cell_type": "code",
   "execution_count": 14,
   "metadata": {},
   "outputs": [],
   "source": [
    "# Compute the payoff of an asian average price call option\n",
    "\n",
    "# parameters:\n",
    "# path: path taken by the asset\n",
    "# K: strike price\n",
    "def asianAvgPriceCall(path, K):\n",
    "    avgPrice = discreteIntegral(path)\n",
    "    intrinsic = avgPrice - K\n",
    "    \n",
    "    return intrinsic if intrinsic > 0 else 0"
   ]
  },
  {
   "cell_type": "code",
   "execution_count": 15,
   "metadata": {},
   "outputs": [],
   "source": [
    "def asianAvgPricePut(path, K):\n",
    "    avgPrice = discreteIntegral(path)\n",
    "    intrinsic = K - avgPrice\n",
    "    \n",
    "    return intrinsic if intrinsic > 0 else 0"
   ]
  },
  {
   "cell_type": "code",
   "execution_count": 16,
   "metadata": {},
   "outputs": [],
   "source": [
    "def asianAvgStrikeCall(path):\n",
    "    avgPrice = discreteIntegral(path)\n",
    "    S_T = path[len(path) - 1]\n",
    "    intrinsic = S_T - avgPrice\n",
    "    \n",
    "    return intrinsic if intrinsic > 0 else 0"
   ]
  },
  {
   "cell_type": "code",
   "execution_count": 17,
   "metadata": {},
   "outputs": [],
   "source": [
    "def asianAvgStrikePut(path):\n",
    "    avgPrice = discreteIntegral(path)\n",
    "    S_T = path[len(path) - 1]\n",
    "    intrinsic = avgPrice - S_T\n",
    "    \n",
    "    return intrinsic if intrinsic > 0 else 0"
   ]
  },
  {
   "cell_type": "markdown",
   "metadata": {},
   "source": [
    "Lookback:"
   ]
  },
  {
   "cell_type": "code",
   "execution_count": 18,
   "metadata": {},
   "outputs": [],
   "source": [
    "def lookbackFixedCall(path, K):\n",
    "    Smax = getMax(path)\n",
    "    intrinsic = Smax - K\n",
    "    \n",
    "    return intrinsic if intrinsic > 0 else 0"
   ]
  },
  {
   "cell_type": "code",
   "execution_count": 19,
   "metadata": {},
   "outputs": [],
   "source": [
    "def lookbackFixedPut(path, K):\n",
    "    Smin = getMin(path)\n",
    "    intrinsic = K - Smin\n",
    "    \n",
    "    return intrinsic if intrinsic > 0 else 0"
   ]
  },
  {
   "cell_type": "code",
   "execution_count": 20,
   "metadata": {},
   "outputs": [],
   "source": [
    "def lookbackFloatingCall(path):\n",
    "    S_T = path[len(path) - 1]\n",
    "    Smin = getMin(path)\n",
    "    \n",
    "    intrinsic = S_T - Smin\n",
    "        \n",
    "    return intrinsic if intrinsic > 0 else 0"
   ]
  },
  {
   "cell_type": "code",
   "execution_count": 21,
   "metadata": {},
   "outputs": [],
   "source": [
    "def lookbackFloatingPut(path):\n",
    "    S_T = path[len(path) - 1]\n",
    "    Smax = getMax(path)\n",
    "    \n",
    "    intrinsic = Smax - S_T\n",
    "        \n",
    "    return intrinsic if intrinsic > 0 else 0"
   ]
  },
  {
   "cell_type": "code",
   "execution_count": 22,
   "metadata": {},
   "outputs": [],
   "source": [
    "# TODO: chooser"
   ]
  },
  {
   "cell_type": "markdown",
   "metadata": {},
   "source": [
    "Option Payoff Tests"
   ]
  },
  {
   "cell_type": "markdown",
   "metadata": {},
   "source": [
    "Asian:"
   ]
  },
  {
   "cell_type": "code",
   "execution_count": 23,
   "metadata": {},
   "outputs": [],
   "source": [
    "# Asian average price call positive\n",
    "\n",
    "path = [100, 100, 100, 100]\n",
    "strike = 75\n",
    "\n",
    "if (asianAvgPriceCall(path, strike) != 25):\n",
    "    print(\"Test failed! Asian Average Price Call Option produced wrong payoff\")\n",
    "    \n",
    "# Asian average price call zero\n",
    "\n",
    "path = [100, 57, 88, 120]\n",
    "strike = 150\n",
    "\n",
    "if (asianAvgPriceCall(path, strike) != 0):\n",
    "    print(\"Test failed! Asian Average Price Call Option produced wrong payoff\")"
   ]
  },
  {
   "cell_type": "code",
   "execution_count": null,
   "metadata": {},
   "outputs": [],
   "source": []
  },
  {
   "cell_type": "code",
   "execution_count": 24,
   "metadata": {},
   "outputs": [],
   "source": [
    "#Asian average price put zero\n",
    "\n",
    "path = [100, 110, 100, 200]\n",
    "strike = 75\n",
    "\n",
    "if (asianAvgPricePut(path, strike) != 0):\n",
    "    print(\"Test failed! Asian Average Price Put Option produced wrong payoff\")\n",
    "    \n",
    "#Asian average price put positive\n",
    "\n",
    "path = [50, 50, 50, 50]\n",
    "strike = 75\n",
    "\n",
    "if (asianAvgPricePut(path, strike) != 25):\n",
    "    print(\"Test failed! Asian Average Price Put Option produced wrong payoff\")"
   ]
  },
  {
   "cell_type": "code",
   "execution_count": null,
   "metadata": {},
   "outputs": [],
   "source": []
  },
  {
   "cell_type": "code",
   "execution_count": 25,
   "metadata": {},
   "outputs": [],
   "source": [
    "#Asian average strike call positive\n",
    "\n",
    "path = [50, 0, 40, 100]\n",
    "\n",
    "if (asianAvgStrikeCall(path) != 100 - 47.5):\n",
    "    print(\"Test failed! Asian Average Strike Call Option produced wrong payoff\")\n",
    "    \n",
    "#Asian average strike call zero\n",
    "\n",
    "path = [50000, 0, 40, 100]\n",
    "\n",
    "if (asianAvgStrikeCall(path) != 0):\n",
    "    print(\"Test failed! Asian Average Strike Call Option produced wrong payoff\")"
   ]
  },
  {
   "cell_type": "code",
   "execution_count": 26,
   "metadata": {},
   "outputs": [],
   "source": [
    "#Asian average strike put positive\n",
    "\n",
    "path = [50, 0, 0, 40, 10]\n",
    "\n",
    "if (asianAvgStrikePut(path) != 20 - 10):\n",
    "    print(\"Test failed! Asian Average Strike Put Option produced wrong payoff\")\n",
    "    \n",
    "#Asian average strike put zero\n",
    "\n",
    "path = [0, 0, 40, 100]\n",
    "\n",
    "if (asianAvgStrikePut(path) != 0):\n",
    "    print(\"Test failed! Asian Average Strike Put Option produced wrong payoff\")"
   ]
  },
  {
   "cell_type": "markdown",
   "metadata": {},
   "source": [
    "Lookback:"
   ]
  },
  {
   "cell_type": "code",
   "execution_count": 27,
   "metadata": {},
   "outputs": [],
   "source": [
    "# Lookback fixed call positive\n",
    "\n",
    "path = [50, 0, 100, 99]\n",
    "\n",
    "if (lookbackFixedCall(path, 75) != 25):\n",
    "    print(\"Test failed! Lookback fixed call produced wrong payoff\")\n",
    "\n",
    "# Lookback fixed call zero\n",
    "\n",
    "path = [50, 0, 50, 45]\n",
    "\n",
    "if (lookbackFixedCall(path, 75) != 0):\n",
    "    print(\"Test failed! lookback fixed call produced wrong payoff\")"
   ]
  },
  {
   "cell_type": "code",
   "execution_count": 28,
   "metadata": {},
   "outputs": [],
   "source": [
    "# Lookback fixed put positive\n",
    "\n",
    "path = [50, 0, 100, 99]\n",
    "\n",
    "if (lookbackFixedPut(path, 75) != 75):\n",
    "    print(\"Test failed! Lookback fixed call produced wrong payoff\")\n",
    "\n",
    "# Lookback fixed put zero\n",
    "\n",
    "path = [500, 1000, 500, 450]\n",
    "\n",
    "if (lookbackFixedPut(path, 75) != 0):\n",
    "    print(\"Test failed! lookback fixed call produced wrong payoff\")"
   ]
  },
  {
   "cell_type": "code",
   "execution_count": 29,
   "metadata": {},
   "outputs": [],
   "source": [
    "# Lookback float call positive\n",
    "\n",
    "path = [50, 30, 100, 101]\n",
    "\n",
    "if (lookbackFloatingCall(path) != 71):\n",
    "    print(\"Test failed! Lookback float call produced wrong payoff 1\")\n",
    "\n",
    "# Lookback fixed call zero\n",
    "\n",
    "path = [50, 70, 50, 20]\n",
    "\n",
    "if (lookbackFloatingCall(path) != 0):\n",
    "    print(\"Test failed! lookback float call produced wrong payoff 2\")"
   ]
  },
  {
   "cell_type": "code",
   "execution_count": 30,
   "metadata": {},
   "outputs": [],
   "source": [
    "# Lookback float put positive\n",
    "\n",
    "path = [50, 0, 100, 99]\n",
    "\n",
    "if (lookbackFloatingPut(path) != 1):\n",
    "    print(\"Test failed! Lookback float call produced wrong payoff 1\")\n",
    "\n",
    "# Lookback float put zero\n",
    "\n",
    "path = [50, 0, 50, 60]\n",
    "\n",
    "if (lookbackFloatingPut(path) != 0):\n",
    "    print(\"Test failed! lookback float call produced wrong payoff 2\")"
   ]
  },
  {
   "cell_type": "code",
   "execution_count": null,
   "metadata": {},
   "outputs": [],
   "source": []
  },
  {
   "cell_type": "code",
   "execution_count": null,
   "metadata": {},
   "outputs": [],
   "source": []
  }
 ],
 "metadata": {
  "kernelspec": {
   "display_name": "Python 3",
   "language": "python",
   "name": "python3"
  },
  "language_info": {
   "codemirror_mode": {
    "name": "ipython",
    "version": 3
   },
   "file_extension": ".py",
   "mimetype": "text/x-python",
   "name": "python",
   "nbconvert_exporter": "python",
   "pygments_lexer": "ipython3",
   "version": "3.8.5"
  }
 },
 "nbformat": 4,
 "nbformat_minor": 2
}

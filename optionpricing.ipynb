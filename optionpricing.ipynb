{
 "cells": [
  {
   "cell_type": "markdown",
   "metadata": {},
   "source": [
    "# Modeling Exotic Option Prices with Monte Carlo\n",
    "\n",
    "**Brendan Reid, Calvin Combs, Dalton Fowler, Xander Struntz**"
   ]
  },
  {
   "cell_type": "markdown",
   "metadata": {},
   "source": [
    "## Introduction"
   ]
  },
  {
   "cell_type": "code",
   "execution_count": 1,
   "metadata": {
    "scrolled": true
   },
   "outputs": [
    {
     "name": "stdout",
     "output_type": "stream",
     "text": [
      "\u001b[33mWARNING: Value for scheme.platlib does not match. Please report this to <https://github.com/pypa/pip/issues/9617>\n",
      "distutils: /usr/local/lib/python3.8/dist-packages\n",
      "sysconfig: /usr/lib/python3.8/site-packages\u001b[0m\n",
      "\u001b[33mWARNING: Value for scheme.purelib does not match. Please report this to <https://github.com/pypa/pip/issues/9617>\n",
      "distutils: /usr/local/lib/python3.8/dist-packages\n",
      "sysconfig: /usr/lib/python3.8/site-packages\u001b[0m\n",
      "\u001b[33mWARNING: Value for scheme.headers does not match. Please report this to <https://github.com/pypa/pip/issues/9617>\n",
      "distutils: /usr/local/include/python3.8/UNKNOWN\n",
      "sysconfig: /usr/include/python3.8\u001b[0m\n",
      "\u001b[33mWARNING: Value for scheme.scripts does not match. Please report this to <https://github.com/pypa/pip/issues/9617>\n",
      "distutils: /usr/local/bin\n",
      "sysconfig: /usr/bin\u001b[0m\n",
      "\u001b[33mWARNING: Value for scheme.data does not match. Please report this to <https://github.com/pypa/pip/issues/9617>\n",
      "distutils: /usr/local\n",
      "sysconfig: /usr\u001b[0m\n",
      "\u001b[33mWARNING: Additional context:\n",
      "user = False\n",
      "home = None\n",
      "root = None\n",
      "prefix = None\u001b[0m\n",
      "Defaulting to user installation because normal site-packages is not writeable\n",
      "Requirement already satisfied: numpy in /home/bonk/.local/lib/python3.8/site-packages (1.20.2)\n",
      "\u001b[33mWARNING: Value for scheme.headers does not match. Please report this to <https://github.com/pypa/pip/issues/9617>\n",
      "distutils: /home/bonk/.local/include/python3.8/UNKNOWN\n",
      "sysconfig: /home/bonk/.local/include/python3.8\u001b[0m\n",
      "\u001b[33mWARNING: Additional context:\n",
      "user = True\n",
      "home = None\n",
      "root = None\n",
      "prefix = None\u001b[0m\n",
      "\u001b[33mWARNING: Value for scheme.platlib does not match. Please report this to <https://github.com/pypa/pip/issues/9617>\n",
      "distutils: /usr/local/lib/python3.8/dist-packages\n",
      "sysconfig: /usr/lib/python3.8/site-packages\u001b[0m\n",
      "\u001b[33mWARNING: Value for scheme.purelib does not match. Please report this to <https://github.com/pypa/pip/issues/9617>\n",
      "distutils: /usr/local/lib/python3.8/dist-packages\n",
      "sysconfig: /usr/lib/python3.8/site-packages\u001b[0m\n",
      "\u001b[33mWARNING: Value for scheme.headers does not match. Please report this to <https://github.com/pypa/pip/issues/9617>\n",
      "distutils: /usr/local/include/python3.8/UNKNOWN\n",
      "sysconfig: /usr/include/python3.8\u001b[0m\n",
      "\u001b[33mWARNING: Value for scheme.scripts does not match. Please report this to <https://github.com/pypa/pip/issues/9617>\n",
      "distutils: /usr/local/bin\n",
      "sysconfig: /usr/bin\u001b[0m\n",
      "\u001b[33mWARNING: Value for scheme.data does not match. Please report this to <https://github.com/pypa/pip/issues/9617>\n",
      "distutils: /usr/local\n",
      "sysconfig: /usr\u001b[0m\n",
      "\u001b[33mWARNING: Additional context:\n",
      "user = False\n",
      "home = None\n",
      "root = None\n",
      "prefix = None\u001b[0m\n",
      "Defaulting to user installation because normal site-packages is not writeable\n",
      "Requirement already satisfied: matplotlib in /home/bonk/.local/lib/python3.8/site-packages (3.4.1)\n",
      "Requirement already satisfied: cycler>=0.10 in /home/bonk/.local/lib/python3.8/site-packages (from matplotlib) (0.10.0)\n",
      "Requirement already satisfied: python-dateutil>=2.7 in /home/bonk/.local/lib/python3.8/site-packages (from matplotlib) (2.8.1)\n",
      "Requirement already satisfied: pillow>=6.2.0 in /home/bonk/.local/lib/python3.8/site-packages (from matplotlib) (8.2.0)\n",
      "Requirement already satisfied: numpy>=1.16 in /home/bonk/.local/lib/python3.8/site-packages (from matplotlib) (1.20.2)\n",
      "Requirement already satisfied: kiwisolver>=1.0.1 in /home/bonk/.local/lib/python3.8/site-packages (from matplotlib) (1.3.1)\n",
      "Requirement already satisfied: pyparsing>=2.2.1 in /home/bonk/.local/lib/python3.8/site-packages (from matplotlib) (2.4.7)\n",
      "Requirement already satisfied: six in /usr/lib/python3/dist-packages (from cycler>=0.10->matplotlib) (1.14.0)\n",
      "\u001b[33mWARNING: Value for scheme.headers does not match. Please report this to <https://github.com/pypa/pip/issues/9617>\n",
      "distutils: /home/bonk/.local/include/python3.8/UNKNOWN\n",
      "sysconfig: /home/bonk/.local/include/python3.8\u001b[0m\n",
      "\u001b[33mWARNING: Additional context:\n",
      "user = True\n",
      "home = None\n",
      "root = None\n",
      "prefix = None\u001b[0m\n"
     ]
    }
   ],
   "source": [
    "!pip install numpy\n",
    "!pip install matplotlib"
   ]
  },
  {
   "cell_type": "code",
   "execution_count": 2,
   "metadata": {},
   "outputs": [],
   "source": [
    "import numpy as np\n",
    "import matplotlib.pyplot as plt"
   ]
  },
  {
   "cell_type": "code",
   "execution_count": 3,
   "metadata": {},
   "outputs": [],
   "source": [
    "# generates matrix of stock paths.\n",
    "# rows represent path of a stock at each time step.\n",
    "# each stock starts from the same price.\n",
    "\n",
    "# parameters:\n",
    "# S0: initial stock price\n",
    "# mu: expected return of stock\n",
    "# sig: standard deviation of stock price\n",
    "# dt: size of time step (annual; give 1/365 for daily)\n",
    "# steps: number of time steps to generate\n",
    "# numPaths: number of stock paths to generate\n",
    "def assetPaths(S0,mu,sig,dt,steps,numPaths):\n",
    "    drift = mu - sig*sig/2\n",
    "    \n",
    "    cProd = np.cumprod(np.exp(drift*dt+sig*np.sqrt(dt)*np.random.normal(0, 1, (steps,numPaths))), axis=0)\n",
    "\n",
    "    # build array\n",
    "    S = S0 * (np.vstack((np.ones((1,numPaths)), (cProd))))\n",
    "    \n",
    "    return S.T"
   ]
  },
  {
   "cell_type": "markdown",
   "metadata": {},
   "source": [
    "We give some examples of calling `assetPaths()`. (This is for personal reference, we might want to delete these when we submit this project)."
   ]
  },
  {
   "cell_type": "code",
   "execution_count": 4,
   "metadata": {},
   "outputs": [
    {
     "name": "stdout",
     "output_type": "stream",
     "text": [
      "[100.          94.88023355 103.75682134 107.65026269 129.29641659\n",
      " 145.85283442]\n"
     ]
    }
   ],
   "source": [
    "# Each row is a path\n",
    "paths = assetPaths(100, .15, .3, 1/4, 5, 3)\n",
    "pathOne = paths[0]\n",
    "print(pathOne)"
   ]
  },
  {
   "cell_type": "code",
   "execution_count": 5,
   "metadata": {},
   "outputs": [
    {
     "name": "stdout",
     "output_type": "stream",
     "text": [
      "[100. 100. 100.]\n"
     ]
    }
   ],
   "source": [
    "# Note: the asset paths are stored in rows, not the columns, of the matrix.\n",
    "# Thus the first column is the initial price of each asset\n",
    "print(paths.T[0])"
   ]
  },
  {
   "cell_type": "code",
   "execution_count": 6,
   "metadata": {},
   "outputs": [
    {
     "name": "stdout",
     "output_type": "stream",
     "text": [
      "[100.          95.03981822  77.35637244  80.91258392  63.94786609\n",
      "  68.00762928]\n"
     ]
    }
   ],
   "source": [
    "# A different path:\n",
    "pathTwo = paths[1]\n",
    "print(pathTwo)"
   ]
  },
  {
   "cell_type": "code",
   "execution_count": 7,
   "metadata": {},
   "outputs": [],
   "source": [
    "# compute a discrete integral\n",
    "\n",
    "# parameters:\n",
    "# arr: an array. Must only contain numeric types.\n",
    "def discreteIntegral(arr):\n",
    "    result = 0\n",
    "        \n",
    "    for i in range(0, len(arr)):\n",
    "        result += arr[i] * (1 / len(arr))\n",
    "        \n",
    "    return result"
   ]
  },
  {
   "cell_type": "code",
   "execution_count": 8,
   "metadata": {},
   "outputs": [
    {
     "name": "stdout",
     "output_type": "stream",
     "text": [
      "2.0\n",
      "140.96712318820408\n"
     ]
    }
   ],
   "source": [
    "# We give some examples of calling discreteIntegral\n",
    "\n",
    "# we expect 1/3 (1 + 2 + 3) = 2\n",
    "print(discreteIntegral([1, 2, 3]))\n",
    "\n",
    "paths = assetPaths(100, .8, .9, 1/12, 10, 5)[0]\n",
    "print(discreteIntegral(paths))"
   ]
  },
  {
   "cell_type": "code",
   "execution_count": 9,
   "metadata": {},
   "outputs": [],
   "source": [
    "# Parisian Knock In/Out Down indicator\n",
    "# Returns true if the down Parisian continuity requirement is satisfied\n",
    "\n",
    "def downParisCont(path, barrier):\n",
    "    result = True\n",
    "    \n",
    "    for i in range(len(path) + 1):\n",
    "        for j in range(i + 1, len(path)):\n",
    "            for k in range(i, j + 1):\n",
    "                if path[k] > barrier:\n",
    "                    result = False\n",
    "                    break\n",
    "                    \n",
    "            if result == True:\n",
    "                return True\n",
    "                \n",
    "            result = True # otherwise once set to false, it will always be false; bad\n",
    "            \n",
    "    return False\n",
    "                \n",
    "def upParisCont(path, barrier):\n",
    "    result = True\n",
    "    \n",
    "    for i in range(len(path) + 1):\n",
    "        for j in range(i + 1, len(path)):\n",
    "            for k in range(i, j + 1):\n",
    "                if path[k] < barrier:\n",
    "                    result = False\n",
    "                    break\n",
    "                    \n",
    "            if result == True:\n",
    "                return True\n",
    "                \n",
    "            result = True # otherwise once set to false, it will always be false; bad\n",
    "            \n",
    "    return False"
   ]
  },
  {
   "cell_type": "code",
   "execution_count": 10,
   "metadata": {},
   "outputs": [],
   "source": [
    "# Simple functions to find the max and min of a array.\n",
    "# We will be using these to help plot our outputs.\n",
    "\n",
    "# NOTE: I thought I needed this for plotting but it appears not\n",
    "# leaving incase we need at another time.\n",
    "def getMax(arr):\n",
    "    max = arr[0]\n",
    "    for x in arr[1:]:\n",
    "        if x > max:\n",
    "            max = x\n",
    "    return max\n",
    "\n",
    "def getMin(arr):\n",
    "    min = arr[0]\n",
    "    for x in arr[1:]:\n",
    "        if x < min:\n",
    "            min = x\n",
    "    return min"
   ]
  },
  {
   "cell_type": "code",
   "execution_count": 11,
   "metadata": {},
   "outputs": [
    {
     "name": "stdout",
     "output_type": "stream",
     "text": [
      "145.85283441680087|94.88023355030457\n",
      "100.0|63.94786608806049\n"
     ]
    }
   ],
   "source": [
    "# Here we test the functions by a very straightforward test\n",
    "print(getMax(pathOne), getMin(pathOne), sep=\"|\")\n",
    "print(getMax(pathTwo), getMin(pathTwo), sep=\"|\")"
   ]
  },
  {
   "cell_type": "code",
   "execution_count": 12,
   "metadata": {},
   "outputs": [
    {
     "data": {
      "image/png": "[encoded data removed]",
      "text/plain": [
       "<Figure size 432x288 with 1 Axes>"
      ]
     },
     "metadata": {
      "needs_background": "light"
     },
     "output_type": "display_data"
    }
   ],
   "source": [
    "# Plot the first asset path\n",
    "plt.title(\"Option Payoffs\")\n",
    "plt.xlabel(\"X Axis\")\n",
    "plt.ylabel(\"Y Axis\")\n",
    "x = np.arange(0, len(pathOne))\n",
    "y = np.array(pathOne)\n",
    "plt.plot(x, y, color = \"green\")\n",
    "plt.show()"
   ]
  },
  {
   "cell_type": "code",
   "execution_count": 13,
   "metadata": {},
   "outputs": [
    {
     "data": {
      "image/png": "[encoded data removed]",
      "text/plain": [
       "<Figure size 432x288 with 1 Axes>"
      ]
     },
     "metadata": {
      "needs_background": "light"
     },
     "output_type": "display_data"
    }
   ],
   "source": [
    "# Plot the second asset path\n",
    "plt.title(\"Option Payoffs\")\n",
    "plt.xlabel(\"X Axis\")\n",
    "plt.ylabel(\"Y Axis\")\n",
    "x = np.arange(0, len(pathTwo))\n",
    "y = np.array(pathTwo)\n",
    "plt.plot(x, y, color = \"green\")\n",
    "plt.show()"
   ]
  },
  {
   "cell_type": "markdown",
   "metadata": {},
   "source": [
    "Option Payoff Functions"
   ]
  },
  {
   "cell_type": "code",
   "execution_count": 14,
   "metadata": {},
   "outputs": [],
   "source": [
    "# All functions have one or more of these parameters\n",
    "\n",
    "# path: path taken by the asset\n",
    "# K: strike price"
   ]
  },
  {
   "cell_type": "markdown",
   "metadata": {},
   "source": [
    "Asian:"
   ]
  },
  {
   "cell_type": "code",
   "execution_count": 15,
   "metadata": {},
   "outputs": [],
   "source": [
    "# Compute the payoff of an asian average price call option\n",
    "\n",
    "# parameters:\n",
    "# path: path taken by the asset\n",
    "# K: strike price\n",
    "def asianAvgPriceCall(path, K):\n",
    "    avgPrice = discreteIntegral(path)\n",
    "    intrinsic = avgPrice - K\n",
    "    \n",
    "    return intrinsic if intrinsic > 0 else 0"
   ]
  },
  {
   "cell_type": "code",
   "execution_count": 16,
   "metadata": {},
   "outputs": [],
   "source": [
    "def asianAvgPricePut(path, K):\n",
    "    avgPrice = discreteIntegral(path)\n",
    "    intrinsic = K - avgPrice\n",
    "    \n",
    "    return intrinsic if intrinsic > 0 else 0"
   ]
  },
  {
   "cell_type": "code",
   "execution_count": 17,
   "metadata": {},
   "outputs": [],
   "source": [
    "def asianAvgStrikeCall(path):\n",
    "    avgPrice = discreteIntegral(path)\n",
    "    S_T = path[len(path) - 1]\n",
    "    intrinsic = S_T - avgPrice\n",
    "    \n",
    "    return intrinsic if intrinsic > 0 else 0"
   ]
  },
  {
   "cell_type": "code",
   "execution_count": 18,
   "metadata": {},
   "outputs": [],
   "source": [
    "def asianAvgStrikePut(path):\n",
    "    avgPrice = discreteIntegral(path)\n",
    "    S_T = path[len(path) - 1]\n",
    "    intrinsic = avgPrice - S_T\n",
    "    \n",
    "    return intrinsic if intrinsic > 0 else 0"
   ]
  },
  {
   "cell_type": "markdown",
   "metadata": {},
   "source": [
    "Lookback:"
   ]
  },
  {
   "cell_type": "code",
   "execution_count": 19,
   "metadata": {},
   "outputs": [],
   "source": [
    "def lookbackFixedCall(path, K):\n",
    "    Smax = getMax(path)\n",
    "    intrinsic = Smax - K\n",
    "    \n",
    "    return intrinsic if intrinsic > 0 else 0"
   ]
  },
  {
   "cell_type": "code",
   "execution_count": 20,
   "metadata": {},
   "outputs": [],
   "source": [
    "def lookbackFixedPut(path, K):\n",
    "    Smin = getMin(path)\n",
    "    intrinsic = K - Smin\n",
    "    \n",
    "    return intrinsic if intrinsic > 0 else 0"
   ]
  },
  {
   "cell_type": "code",
   "execution_count": 21,
   "metadata": {},
   "outputs": [],
   "source": [
    "def lookbackFloatingCall(path):\n",
    "    S_T = path[len(path) - 1]\n",
    "    Smin = getMin(path)\n",
    "    \n",
    "    intrinsic = S_T - Smin\n",
    "        \n",
    "    return intrinsic if intrinsic > 0 else 0"
   ]
  },
  {
   "cell_type": "code",
   "execution_count": 22,
   "metadata": {},
   "outputs": [],
   "source": [
    "def lookbackFloatingPut(path):\n",
    "    S_T = path[len(path) - 1]\n",
    "    Smax = getMax(path)\n",
    "    \n",
    "    intrinsic = Smax - S_T\n",
    "        \n",
    "    return intrinsic if intrinsic > 0 else 0"
   ]
  },
  {
   "cell_type": "code",
   "execution_count": 53,
   "metadata": {},
   "outputs": [],
   "source": [
    "# Chooser\n",
    "\n",
    "def chooser(path, K, choiceTime):\n",
    "    S_T = path[choiceTime]\n",
    "    \n",
    "    return S_T - K if S_T - K > 0 else K - S_T"
   ]
  },
  {
   "cell_type": "markdown",
   "metadata": {},
   "source": [
    "Knock in"
   ]
  },
  {
   "cell_type": "code",
   "execution_count": 54,
   "metadata": {},
   "outputs": [],
   "source": [
    "# Note barrier options can use the following parameters.\n",
    "\n",
    "# parameters:\n",
    "# rebate: payoff given when the threshold is passed\n",
    "# B: threshold at which the rebate is returned"
   ]
  },
  {
   "cell_type": "code",
   "execution_count": 55,
   "metadata": {},
   "outputs": [],
   "source": [
    "def downInCall(path, B, K, rebate):\n",
    "    if getMin(path) <= B:\n",
    "        S_T = path[len(path) - 1]\n",
    "        intrinsic = S_T - K\n",
    "                \n",
    "        return intrinsic if intrinsic > 0 else 0\n",
    "    \n",
    "    # TODO: what does rebate take?\n",
    "    return rebate()\n",
    "\n",
    "def downInPut(path, B, K, rebate):\n",
    "    if getMin(path) <= B:\n",
    "        S_T = path[len(path) - 1]\n",
    "        intrinsic = K - S_T\n",
    "                \n",
    "        return intrinsic if intrinsic > 0 else 0\n",
    "    \n",
    "    # TODO: what does rebate take?\n",
    "    return rebate()"
   ]
  },
  {
   "cell_type": "code",
   "execution_count": 56,
   "metadata": {},
   "outputs": [],
   "source": [
    "def upInCall(path, B, K, rebate):\n",
    "    if getMax(path) >= B:\n",
    "        S_T = path[len(path) - 1]\n",
    "        intrinsic = S_T - K\n",
    "                \n",
    "        return intrinsic if intrinsic > 0 else 0\n",
    "    \n",
    "    # TODO: what does rebate take?\n",
    "    return rebate()\n",
    "\n",
    "def upInPut(path, B, K, rebate):\n",
    "    if getMax(path) >= B:\n",
    "        S_T = path[len(path) - 1]\n",
    "        intrinsic = K - S_T\n",
    "                \n",
    "        return intrinsic if intrinsic > 0 else 0\n",
    "    \n",
    "    # TODO: what does rebate take?\n",
    "    return rebate()"
   ]
  },
  {
   "cell_type": "markdown",
   "metadata": {},
   "source": [
    "Knock Out"
   ]
  },
  {
   "cell_type": "code",
   "execution_count": 57,
   "metadata": {},
   "outputs": [],
   "source": [
    "def downOutCall(path, B, K, rebate):\n",
    "    if getMin(path) <= B:\n",
    "        return rebate()\n",
    "    \n",
    "    S_T = path[len(path) - 1]\n",
    "    intrinsic = S_T - K\n",
    "    \n",
    "    return intrinsic if intrinsic > 0 else 0\n",
    "\n",
    "def downOutPut(path, B, K, rebate):\n",
    "    if getMin(path) <= B:\n",
    "        return rebate()\n",
    "    \n",
    "    S_T = path[len(path) - 1]\n",
    "    intrinsic = K - S_T\n",
    "    \n",
    "    return intrinsic if intrinsic > 0 else 0\n",
    "\n",
    "def upOutCall(path, B, K, rebate):\n",
    "    if getMax(path) >= B:\n",
    "        return rebate()\n",
    "    \n",
    "    S_T = path[len(path) - 1]\n",
    "    intrinsic = S_T - K\n",
    "    \n",
    "    return intrinsic if intrinsic > 0 else 0\n",
    "\n",
    "def upOutPut(path, B, K, rebate):\n",
    "    if getMax(path) >= B:\n",
    "        return rebate()\n",
    "    \n",
    "    S_T = path[len(path) - 1]\n",
    "    intrinsic = K - S_T\n",
    "    \n",
    "    return intrinsic if intrinsic > 0 else 0"
   ]
  },
  {
   "cell_type": "markdown",
   "metadata": {},
   "source": [
    "Parisian"
   ]
  },
  {
   "cell_type": "code",
   "execution_count": 28,
   "metadata": {},
   "outputs": [],
   "source": [
    "def parisDownInCall(path, barrier, K, rebate):\n",
    "    if (downParisCont(path, barrier) == True):\n",
    "        S_T = path[len(path) - 1]\n",
    "        intrinsic = S_T - K\n",
    "    \n",
    "        return intrinsic if intrinsic > 0 else 0\n",
    "    \n",
    "    return rebate()\n",
    "\n",
    "def parisDownInPut(path, barrier, K, rebate):\n",
    "    if (downParisCont(path, barrier) == True):\n",
    "        S_T = path[len(path) - 1]\n",
    "        intrinsic = K - S_T\n",
    "    \n",
    "        return intrinsic if intrinsic > 0 else 0\n",
    "    \n",
    "    return rebate()\n",
    "\n",
    "def parisUpInCall(path, barrier, K, rebate):\n",
    "    if (upParisCont(path, barrier) == True):\n",
    "        S_T = path[len(path) - 1]\n",
    "        intrinsic = S_T - K\n",
    "    \n",
    "        return intrinsic if intrinsic > 0 else 0\n",
    "    \n",
    "    return rebate()\n",
    "\n",
    "def parisUpInPut(path, barrier, K, rebate):\n",
    "    if (upParisCont(path, barrier) == True):\n",
    "        S_T = path[len(path) - 1]\n",
    "        intrinsic = K - S_T\n",
    "    \n",
    "        return intrinsic if intrinsic > 0 else 0\n",
    "    \n",
    "    return rebate()\n",
    "\n",
    "# Out\n",
    "\n",
    "def parisDownOutCall(path, barrier, K, rebate):\n",
    "    if (downParisCont(path, barrier) == True):\n",
    "        return rebate()\n",
    "\n",
    "    S_T = path[len(path) - 1]\n",
    "    intrinsic = S_T - K\n",
    "    \n",
    "    return intrinsic if intrinsic > 0 else 0\n",
    "\n",
    "def parisDownOutPut(path, barrier, K, rebate):\n",
    "    if (downParisCont(path, barrier) == True):\n",
    "        return rebate()\n",
    "    \n",
    "    S_T = path[len(path) - 1]\n",
    "    intrinsic = K - S_T\n",
    "    \n",
    "    return intrinsic if intrinsic > 0 else 0\n",
    "    \n",
    "def parisUpOutCall(path, barrier, K, rebate):\n",
    "    if (upParisCont(path, barrier) == True):\n",
    "        return rebate()\n",
    "\n",
    "    S_T = path[len(path) - 1]\n",
    "    intrinsic = S_T - K\n",
    "    \n",
    "    return intrinsic if intrinsic > 0 else 0\n",
    "\n",
    "def parisUpOutPut(path, barrier, K, rebate):\n",
    "    if (upParisCont(path, barrier) == True):\n",
    "        return rebate()\n",
    "    \n",
    "    S_T = path[len(path) - 1]\n",
    "    intrinsic = K - S_T\n",
    "    \n",
    "    return intrinsic if intrinsic > 0 else 0\n",
    "    "
   ]
  },
  {
   "cell_type": "markdown",
   "metadata": {},
   "source": [
    "Option Payoff Tests"
   ]
  },
  {
   "cell_type": "markdown",
   "metadata": {},
   "source": [
    "Util: Parisian Continuity checkers"
   ]
  },
  {
   "cell_type": "code",
   "execution_count": 29,
   "metadata": {},
   "outputs": [],
   "source": [
    "# Down\n",
    "\n",
    "path = [100, 110, 100, 200]\n",
    "\n",
    "if (downParisCont(path, 90) != False):\n",
    "    print(\"Test failed! down parisian continuity failed\")\n",
    "\n",
    "path = [100, 80, 90, 200]\n",
    "\n",
    "if (downParisCont(path, 90) != True):\n",
    "    print(\"Test failed! down parisian continuity failed 2\")\n",
    "    \n",
    "path = [80, 80, 90, 60]\n",
    "\n",
    "if (downParisCont(path, 90) != True):\n",
    "    print(\"Test failed! down parisian continuity failed 3\")\n",
    "    \n",
    "path = [100, 100, 90, 100]\n",
    "\n",
    "if (downParisCont(path, 90) != False):\n",
    "    print(\"Test failed! down parisian continuity failed 4\")"
   ]
  },
  {
   "cell_type": "code",
   "execution_count": 30,
   "metadata": {},
   "outputs": [],
   "source": [
    "# Up\n",
    "\n",
    "path = [100, 110, 100, 200]\n",
    "\n",
    "if (upParisCont(path, 300) != False):\n",
    "    print(\"Test failed! down parisian continuity failed\")\n",
    "\n",
    "path = [50, 80, 90, 20]\n",
    "\n",
    "if (upParisCont(path, 80) != True):\n",
    "    print(\"Test failed! down parisian continuity failed 2\")\n",
    "    \n",
    "path = [80, 80, 90, 60]\n",
    "\n",
    "if (upParisCont(path, 80) != True):\n",
    "    print(\"Test failed! down parisian continuity failed 3\")\n",
    "    \n",
    "path = [80, 80, 90, 80]\n",
    "\n",
    "if (upParisCont(path, 90) != False):\n",
    "    print(\"Test failed! down parisian continuity failed 4\")"
   ]
  },
  {
   "cell_type": "markdown",
   "metadata": {},
   "source": [
    "Asian:"
   ]
  },
  {
   "cell_type": "code",
   "execution_count": 31,
   "metadata": {},
   "outputs": [],
   "source": [
    "# Asian average price call positive\n",
    "\n",
    "path = [100, 100, 100, 100]\n",
    "strike = 75\n",
    "\n",
    "if (asianAvgPriceCall(path, strike) != 25):\n",
    "    print(\"Test failed! Asian Average Price Call Option produced wrong payoff\")\n",
    "    \n",
    "# Asian average price call zero\n",
    "\n",
    "path = [100, 57, 88, 120]\n",
    "strike = 150\n",
    "\n",
    "if (asianAvgPriceCall(path, strike) != 0):\n",
    "    print(\"Test failed! Asian Average Price Call Option produced wrong payoff\")"
   ]
  },
  {
   "cell_type": "code",
   "execution_count": null,
   "metadata": {},
   "outputs": [],
   "source": []
  },
  {
   "cell_type": "code",
   "execution_count": 32,
   "metadata": {},
   "outputs": [],
   "source": [
    "#Asian average price put zero\n",
    "\n",
    "path = [100, 110, 100, 200]\n",
    "strike = 75\n",
    "\n",
    "if (asianAvgPricePut(path, strike) != 0):\n",
    "    print(\"Test failed! Asian Average Price Put Option produced wrong payoff\")\n",
    "    \n",
    "#Asian average price put positive\n",
    "\n",
    "path = [50, 50, 50, 50]\n",
    "strike = 75\n",
    "\n",
    "if (asianAvgPricePut(path, strike) != 25):\n",
    "    print(\"Test failed! Asian Average Price Put Option produced wrong payoff\")"
   ]
  },
  {
   "cell_type": "code",
   "execution_count": null,
   "metadata": {},
   "outputs": [],
   "source": []
  },
  {
   "cell_type": "code",
   "execution_count": 33,
   "metadata": {},
   "outputs": [],
   "source": [
    "#Asian average strike call positive\n",
    "\n",
    "path = [50, 0, 40, 100]\n",
    "\n",
    "if (asianAvgStrikeCall(path) != 100 - 47.5):\n",
    "    print(\"Test failed! Asian Average Strike Call Option produced wrong payoff\")\n",
    "    \n",
    "#Asian average strike call zero\n",
    "\n",
    "path = [50000, 0, 40, 100]\n",
    "\n",
    "if (asianAvgStrikeCall(path) != 0):\n",
    "    print(\"Test failed! Asian Average Strike Call Option produced wrong payoff\")"
   ]
  },
  {
   "cell_type": "code",
   "execution_count": 34,
   "metadata": {},
   "outputs": [],
   "source": [
    "#Asian average strike put positive\n",
    "\n",
    "path = [50, 0, 0, 40, 10]\n",
    "\n",
    "if (asianAvgStrikePut(path) != 20 - 10):\n",
    "    print(\"Test failed! Asian Average Strike Put Option produced wrong payoff\")\n",
    "    \n",
    "#Asian average strike put zero\n",
    "\n",
    "path = [0, 0, 40, 100]\n",
    "\n",
    "if (asianAvgStrikePut(path) != 0):\n",
    "    print(\"Test failed! Asian Average Strike Put Option produced wrong payoff\")"
   ]
  },
  {
   "cell_type": "markdown",
   "metadata": {},
   "source": [
    "Lookback:"
   ]
  },
  {
   "cell_type": "code",
   "execution_count": 35,
   "metadata": {},
   "outputs": [],
   "source": [
    "# Lookback fixed call positive\n",
    "\n",
    "path = [50, 0, 100, 99]\n",
    "\n",
    "if (lookbackFixedCall(path, 75) != 25):\n",
    "    print(\"Test failed! Lookback fixed call produced wrong payoff\")\n",
    "\n",
    "# Lookback fixed call zero\n",
    "\n",
    "path = [50, 0, 50, 45]\n",
    "\n",
    "if (lookbackFixedCall(path, 75) != 0):\n",
    "    print(\"Test failed! lookback fixed call produced wrong payoff\")"
   ]
  },
  {
   "cell_type": "code",
   "execution_count": 36,
   "metadata": {},
   "outputs": [],
   "source": [
    "# Lookback fixed put positive\n",
    "\n",
    "path = [50, 0, 100, 99]\n",
    "\n",
    "if (lookbackFixedPut(path, 75) != 75):\n",
    "    print(\"Test failed! Lookback fixed call produced wrong payoff\")\n",
    "\n",
    "# Lookback fixed put zero\n",
    "\n",
    "path = [500, 1000, 500, 450]\n",
    "\n",
    "if (lookbackFixedPut(path, 75) != 0):\n",
    "    print(\"Test failed! lookback fixed call produced wrong payoff\")"
   ]
  },
  {
   "cell_type": "code",
   "execution_count": 37,
   "metadata": {},
   "outputs": [],
   "source": [
    "# Lookback float call positive\n",
    "\n",
    "path = [50, 30, 100, 101]\n",
    "\n",
    "if (lookbackFloatingCall(path) != 71):\n",
    "    print(\"Test failed! Lookback float call produced wrong payoff 1\")\n",
    "\n",
    "# Lookback fixed call zero\n",
    "\n",
    "path = [50, 70, 50, 20]\n",
    "\n",
    "if (lookbackFloatingCall(path) != 0):\n",
    "    print(\"Test failed! lookback float call produced wrong payoff 2\")"
   ]
  },
  {
   "cell_type": "code",
   "execution_count": 38,
   "metadata": {},
   "outputs": [],
   "source": [
    "# Lookback float put positive\n",
    "\n",
    "path = [50, 0, 100, 99]\n",
    "\n",
    "if (lookbackFloatingPut(path) != 1):\n",
    "    print(\"Test failed! Lookback float call produced wrong payoff 1\")\n",
    "\n",
    "# Lookback float put zero\n",
    "\n",
    "path = [50, 0, 50, 60]\n",
    "\n",
    "if (lookbackFloatingPut(path) != 0):\n",
    "    print(\"Test failed! lookback float call produced wrong payoff 2\")"
   ]
  },
  {
   "cell_type": "code",
   "execution_count": 60,
   "metadata": {},
   "outputs": [],
   "source": [
    "# Chooser Put\n",
    "\n",
    "path = [50, 0, 70, 140]\n",
    "choiceTime = 2\n",
    "K = 100\n",
    "\n",
    "if (chooser(path, K, choiceTime) != 100-70):\n",
    "    print(\"Test failed! Lookback float call produced wrong payoff 1\")\n",
    "\n",
    "# Lookback float put zero\n",
    "\n",
    "choiceTime = 3\n",
    "\n",
    "if (chooser(path, K, choiceTime) != 140-100):\n",
    "    print(\"Test failed! lookback float call produced wrong payoff 2\")"
   ]
  },
  {
   "cell_type": "code",
   "execution_count": 39,
   "metadata": {},
   "outputs": [],
   "source": [
    "# This rebate is used in all tests\n",
    "\n",
    "def rebate():\n",
    "    return 123"
   ]
  },
  {
   "cell_type": "code",
   "execution_count": 40,
   "metadata": {},
   "outputs": [],
   "source": [
    "# Down In non-rebate\n",
    "\n",
    "path = [50, 0, 100, 70]\n",
    "\n",
    "if (downInCall(path, 60, 40, rebate) != 70-40):\n",
    "    print(\"Test failed! down and in call produced wrong payoff 1\")\n",
    "\n",
    "# Down in rebate\n",
    "\n",
    "path = [50, 30, 50, 60]\n",
    "\n",
    "if (downInCall(path, 20, 40, rebate) != rebate()):\n",
    "    print(\"Test failed! down and in call produced wrong payoff 2\")"
   ]
  },
  {
   "cell_type": "code",
   "execution_count": 41,
   "metadata": {},
   "outputs": [],
   "source": [
    "# Down In non-rebate\n",
    "\n",
    "path = [50, 0, 100, 20]\n",
    "\n",
    "if (downInPut(path, 60, 40, rebate) != 40-20):\n",
    "    print(\"Test failed! down and in put produced wrong payoff 1\")\n",
    "\n",
    "# Down in rebate\n",
    "\n",
    "path = [50, 30, 50, 60]\n",
    "\n",
    "if (downInPut(path, 20, 40, rebate) != rebate()):\n",
    "    print(\"Test failed! down and in put produced wrong payoff 2\")"
   ]
  },
  {
   "cell_type": "code",
   "execution_count": 42,
   "metadata": {},
   "outputs": [],
   "source": [
    "# Up In non-rebate\n",
    "\n",
    "path = [50, 0, 100, 70]\n",
    "\n",
    "if (upInCall(path, 60, 40, rebate) != 70-40):\n",
    "    print(\"Test failed! up and in call produced wrong payoff 1\")\n",
    "\n",
    "# Up in rebate\n",
    "\n",
    "path = [50, 30, 50, 60]\n",
    "\n",
    "if (upInCall(path, 90, 40, rebate) != rebate()):\n",
    "    print(\"Test failed! up and in call produced wrong payoff 2\")"
   ]
  },
  {
   "cell_type": "code",
   "execution_count": 43,
   "metadata": {},
   "outputs": [],
   "source": [
    "# Up In non-rebate\n",
    "\n",
    "path = [50, 0, 100, 20]\n",
    "\n",
    "if (upInPut(path, 60, 40, rebate) != 40-20):\n",
    "    print(\"Test failed! up and in call produced wrong payoff 1\")\n",
    "\n",
    "# Up in rebate\n",
    "\n",
    "path = [50, 30, 50, 60]\n",
    "\n",
    "if (upInPut(path, 90, 40, rebate) != rebate()):\n",
    "    print(\"Test failed! up and in call produced wrong payoff 2\")"
   ]
  },
  {
   "cell_type": "code",
   "execution_count": 44,
   "metadata": {},
   "outputs": [],
   "source": [
    "# Down out non-rebate\n",
    "\n",
    "path = [70, 70, 100, 80]\n",
    "\n",
    "if (downOutCall(path, 60, 40, rebate) != 80-40):\n",
    "    print(\"Test failed! down and out call produced wrong payoff 1\")\n",
    "\n",
    "# Down out rebate\n",
    "\n",
    "path = [50, 30, 50, 60]\n",
    "\n",
    "if (downOutCall(path, 40, 40, rebate) != rebate()):\n",
    "    print(\"Test failed! down and out call produced wrong payoff 2\")"
   ]
  },
  {
   "cell_type": "code",
   "execution_count": 45,
   "metadata": {},
   "outputs": [],
   "source": [
    "# Down out non-rebate\n",
    "\n",
    "path = [70, 70, 100, 80]\n",
    "\n",
    "if (downOutPut(path, 60, 100, rebate) != 100-80):\n",
    "    print(\"Test failed! down and out call produced wrong payoff 1\")\n",
    "\n",
    "# Down out rebate\n",
    "\n",
    "path = [50, 30, 50, 60]\n",
    "\n",
    "if (downOutPut(path, 40, 40, rebate) != rebate()):\n",
    "    print(\"Test failed! down and out call produced wrong payoff 2\")"
   ]
  },
  {
   "cell_type": "code",
   "execution_count": 46,
   "metadata": {},
   "outputs": [],
   "source": [
    "# up out non-rebate\n",
    "\n",
    "path = [70, 70, 100, 80]\n",
    "\n",
    "if (upOutCall(path, 110, 40, rebate) != 80-40):\n",
    "    print(\"Test failed! up and out call produced wrong payoff 1\")\n",
    "\n",
    "# up out rebate\n",
    "\n",
    "path = [50, 30, 50, 60]\n",
    "\n",
    "if (upOutCall(path, 40, 40, rebate) != rebate()):\n",
    "    print(\"Test failed! up and out call produced wrong payoff 2\")"
   ]
  },
  {
   "cell_type": "code",
   "execution_count": 47,
   "metadata": {},
   "outputs": [],
   "source": [
    "# up out non-rebate\n",
    "\n",
    "path = [70, 70, 100, 80]\n",
    "\n",
    "if (upOutPut(path, 110, 400, rebate) != 400-80):\n",
    "    print(\"Test failed! up and out call produced wrong payoff 1\")\n",
    "\n",
    "# up out rebate\n",
    "\n",
    "path = [50, 30, 50, 60]\n",
    "\n",
    "if (upOutPut(path, 40, 40, rebate) != rebate()):\n",
    "    print(\"Test failed! up and out call produced wrong payoff 2\")"
   ]
  },
  {
   "cell_type": "code",
   "execution_count": 48,
   "metadata": {},
   "outputs": [],
   "source": [
    "# Parisian Down In Call no rebate\n",
    "\n",
    "path = [200, 100, 70, 80]\n",
    "K = 100\n",
    "\n",
    "if (parisDownInCall(path, 90, K, rebate) != 0):\n",
    "    print(\"Test failed! Parisian Down and In Call produced wrong payoff 1\")\n",
    "\n",
    "path = [200, 70, 70, 130]\n",
    "K = 100\n",
    "\n",
    "if (parisDownInCall(path, 90, K, rebate) != 130-100):\n",
    "    print(\"Test failed! Parisian Down and In Call produced wrong payoff 2\")\n",
    "    \n",
    "# Parisian Down In Call rebate\n",
    "\n",
    "path = [80, 100, 1, 110]\n",
    "\n",
    "if (parisDownInCall(path, 90, K, rebate) != rebate()):\n",
    "    print(\"Test failed! up and out call produced wrong payoff 3\")\n",
    "    \n",
    "    \n",
    "# Parisian Down In Put no rebate\n",
    "\n",
    "path = [200, 100, 70, 80]\n",
    "K = 100\n",
    "\n",
    "if (parisDownInPut(path, 90, K, rebate) != K-80):\n",
    "    print(\"Test failed! Parisian Down and In Call produced wrong payoff 1\")\n",
    "\n",
    "path = [200, 70, 70, 130]\n",
    "K = 100\n",
    "\n",
    "if (parisDownInPut(path, 90, K, rebate) != 0):\n",
    "    print(\"Test failed! Parisian Down and In Call produced wrong payoff 2\")\n",
    "    \n",
    "# Parisian Down In Call rebate\n",
    "\n",
    "path = [80, 100, 1, 110]\n",
    "\n",
    "if (parisDownInPut(path, 90, K, rebate) != rebate()):\n",
    "    print(\"Test failed! up and out call produced wrong payoff 3\")"
   ]
  },
  {
   "cell_type": "code",
   "execution_count": 49,
   "metadata": {},
   "outputs": [],
   "source": [
    "# Parisian Up In Call no rebate\n",
    "\n",
    "path = [200, 100, 70, 80]\n",
    "K = 100\n",
    "\n",
    "if (parisUpInCall(path, 90, K, rebate) != 0):\n",
    "    print(\"Test failed! Parisian Up and In Call produced wrong payoff 1\")\n",
    "\n",
    "path = [20, 70, 70, 40]\n",
    "K = 30\n",
    "\n",
    "if (parisUpInCall(path, 50, K, rebate) != 40-30):\n",
    "    print(\"Test failed! Parisian Up and In Call produced wrong payoff 2\")\n",
    "    \n",
    "# Parisian Up In Call rebate\n",
    "\n",
    "path = [80, 100, 1, 110]\n",
    "\n",
    "if (parisUpInCall(path, 90, K, rebate) != rebate()):\n",
    "    print(\"Test failed! produced wrong payoff 3\")\n",
    "    \n",
    "    \n",
    "# Parisian Up In Put no rebate\n",
    "\n",
    "path = [200, 100, 70, 80]\n",
    "K = 100\n",
    "\n",
    "if (parisUpInPut(path, 90, K, rebate) != K-80):\n",
    "    print(\"Test failed! produced wrong payoff 4\")\n",
    "\n",
    "path = [20, 70, 70, 200]\n",
    "K = 100\n",
    "\n",
    "if (parisUpInPut(path, 50, K, rebate) != 0):\n",
    "    print(\"Test failed! Parisian up and In put produced wrong payoff 5\")\n",
    "    \n",
    "# Parisian Up In Put rebate\n",
    "\n",
    "path = [80, 100, 1, 110]\n",
    "\n",
    "if (parisUpInPut(path, 90, K, rebate) != rebate()):\n",
    "    print(\"Test failed! up and out put produced wrong payoff 6\")"
   ]
  },
  {
   "cell_type": "code",
   "execution_count": 50,
   "metadata": {},
   "outputs": [],
   "source": [
    "# Parisian Down Out Call rebate\n",
    "\n",
    "path = [200, 67, 80, 300]\n",
    "K = 100\n",
    "\n",
    "if (parisDownOutCall(path, 90, K, rebate) != rebate()):\n",
    "    print(\"Test failed! produced wrong payoff 1\")\n",
    "\n",
    "# Parisian Down Out Call no rebate\n",
    "\n",
    "path = [70, 700, 34, 130]\n",
    "K = 100\n",
    "\n",
    "if (parisDownOutCall(path, 90, K, rebate) != 130-100):\n",
    "    print(\"Test failed! produced wrong payoff 2\")\n",
    "    \n",
    "path = [80, 100, 1, 110]\n",
    "K = 130\n",
    "\n",
    "if (parisDownOutCall(path, 90, K, rebate) != 0):\n",
    "    print(\"Test failed! produced wrong payoff 3\")\n",
    "    \n",
    "# Parisian Down In Put no rebate\n",
    "\n",
    "path = [200, 100, 120, 80]\n",
    "K = 100\n",
    "\n",
    "if (parisDownOutPut(path, 90, K, rebate) != K-80):\n",
    "    print(\"Test failed! produced wrong payoff 4\")\n",
    "\n",
    "path = [200, 110, 90, 130]\n",
    "K = 100\n",
    "\n",
    "if (parisDownOutPut(path, 90, K, rebate) != 0):\n",
    "    print(\"Test failed! produced wrong payoff 5\")\n",
    "    \n",
    "# Parisian Down Out Put rebate\n",
    "\n",
    "path = [80, 80, 1, 110]\n",
    "\n",
    "if (parisDownOutPut(path, 90, K, rebate) != rebate()):\n",
    "    print(\"Test failed! produced wrong payoff 6\")"
   ]
  },
  {
   "cell_type": "code",
   "execution_count": 51,
   "metadata": {},
   "outputs": [],
   "source": [
    "# Parisian Up Out Call rebate\n",
    "\n",
    "path = [200, 100, 80, 300]\n",
    "K = 100\n",
    "\n",
    "if (parisUpOutCall(path, 90, K, rebate) != rebate()):\n",
    "    print(\"Test failed! produced wrong payoff 1\")\n",
    "\n",
    "# Parisian Up Out Call no rebate\n",
    "\n",
    "path = [70, 700, 34, 130]\n",
    "K = 100\n",
    "\n",
    "if (parisUpOutCall(path, 90, K, rebate) != 130-100):\n",
    "    print(\"Test failed! produced wrong payoff 2\")\n",
    "    \n",
    "path = [80, 100, 1, 110]\n",
    "K = 130\n",
    "\n",
    "if (parisUpOutCall(path, 90, K, rebate) != 0):\n",
    "    print(\"Test failed! produced wrong payoff 3\")\n",
    "    \n",
    "# Parisian Up In Put no rebate\n",
    "\n",
    "path = [200, 70, 120, 80]\n",
    "K = 100\n",
    "\n",
    "if (parisUpOutPut(path, 90, K, rebate) != K-80):\n",
    "    print(\"Test failed! produced wrong payoff 4\")\n",
    "\n",
    "path = [80, 90, 80, 130]\n",
    "K = 100\n",
    "\n",
    "if (parisUpOutPut(path, 90, K, rebate) != 0):\n",
    "    print(\"Test failed! produced wrong payoff 5\")\n",
    "    \n",
    "# Parisian Up Out Put rebate\n",
    "\n",
    "path = [800, 800, 1, 110]\n",
    "\n",
    "if (parisUpOutPut(path, 90, K, rebate) != rebate()):\n",
    "    print(\"Test failed! produced wrong payoff 6\")"
   ]
  },
  {
   "cell_type": "code",
   "execution_count": null,
   "metadata": {},
   "outputs": [],
   "source": []
  },
  {
   "cell_type": "code",
   "execution_count": null,
   "metadata": {},
   "outputs": [],
   "source": []
  },
  {
   "cell_type": "code",
   "execution_count": null,
   "metadata": {},
   "outputs": [],
   "source": []
  }
 ],
 "metadata": {
  "kernelspec": {
   "display_name": "Python 3",
   "language": "python",
   "name": "python3"
  },
  "language_info": {
   "codemirror_mode": {
    "name": "ipython",
    "version": 3
   },
   "file_extension": ".py",
   "mimetype": "text/x-python",
   "name": "python",
   "nbconvert_exporter": "python",
   "pygments_lexer": "ipython3",
   "version": "3.8.5"
  }
 },
 "nbformat": 4,
 "nbformat_minor": 2
}
